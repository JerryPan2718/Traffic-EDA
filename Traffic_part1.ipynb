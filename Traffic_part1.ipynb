{
 "cells": [
  {
   "cell_type": "code",
   "execution_count": 1,
   "id": "4c4321ec",
   "metadata": {
    "deletable": false,
    "editable": false
   },
   "outputs": [],
   "source": [
    "# Initialize Otter\n",
    "import otter\n",
    "grader = otter.Notebook(\"Traffic_part1.ipynb\")"
   ]
  },
  {
   "cell_type": "markdown",
   "id": "89b967dc",
   "metadata": {},
   "source": [
    "# Final Project: Traffic\n",
    "## Due Date: Wednesday, November 17th, 11:59 PM\n",
    "## Collaboration Policy\n",
    "\n",
    "Data science is a collaborative activity. While you may talk with other groups about\n",
    "the project, we ask that you **write your solutions within your own groups**. If you do\n",
    "discuss the assignments with others outside of your group please **include their names** at the top\n",
    "of your notebook."
   ]
  },
  {
   "cell_type": "markdown",
   "id": "49a5cc8f",
   "metadata": {},
   "source": [
    "# Data 100 Final Project: Traffic in a post-lockdown world\n",
    "\n",
    "**Scenario:** You're a data scientist at Uber -- sitting in a war room on March 16, 2020, 1 day after California-wide COVID lockdown measures began and the day shelter-in-place measures are announced in the bay area. The entire data science department is on fire: All of your existing traffic models have regressed *significantly*. Given the sudden change in traffic patterns (i.e., no traffic at all), the company's traffic estimates are wildly incorrect. This is a top priority for the company. Since traffic estimates are used directly for pricing strategies, this is actively costing the company millions every hour. You are tasked with fixing these models.\n",
    "\n",
    "**Takeaways:** How do you \"fix\" models that have learned biases from pre-lockdown traffic? How do you train new ones, with just 24 hours of data? What sorts of data do you examine, to better understand the situation? In the midst of company-wide panic, you'll need a strong inferential acumen to lead a robust data science response. In this project, we'll walk you through a simulated war room data science effort, culminating in some strategies to fix models online, which are experiencing large distributional shifts in data.\n",
    "\n",
    "For this project, we'll explore traffic data provided by the **Uber Movement** dataset, specifically around the start of COVID shutdowns in March 2020. Your project is structured around the following ideas:\n",
    "\n",
    "```\n",
    "1. Guided data cleaning: Clustering data spatially\n",
    "    a. Load Uber traffic speeds dataset\n",
    "    b. Map traffic speeds to Google Plus Codes (spatially uniform)\n",
    "        i. Load node-to-gps-coordinates data\n",
    "        ii. Map traffic speed to GPS coordinates\n",
    "        iii. Convert GPS coordinates to plus code regions\n",
    "        iv. Sanity check number of plus code regions in San Francisco\n",
    "        v. Plot a histogram of the standard deviation in speed, per plus code region.\n",
    "    c. Map traffic speeds to census tracts (spatially non-uniform)\n",
    "        i. Download census tracts geojson\n",
    "        ii. Map traffic speed to census tracts\n",
    "        iii. Sanity check number of census tracts in San Francisco with data.\n",
    "        iv. Plot a histogram of the standard deviation in speed, per census tract.\n",
    "    d. What defines a \"good\" or \"bad\" spatial clustering?\n",
    "2. Guided EDA: Understanding COVID lockdown impact on traffic\n",
    "    a. How did lockdown affect average traffic speeds?\n",
    "        i. Sort census tracts by average speed, pre-lockdown.\n",
    "        ii. Sort census tracts by average speed, post-lockdown.\n",
    "        iii. Sort census tracts by change in average speed, from pre to post lockdown.\n",
    "        iv. Quantify the impact of lockdown on average speeds.\n",
    "        v. Quantify the impact of pre-lockdown average speed on change in speed.\n",
    "    b. What traffic areas were impacted by lockdown?\n",
    "        i. Visualize heatmap of average traffic speed per census tract, pre-lockdown.\n",
    "        ii. Visualize change in average daily speeds pre vs. post lockdown.\n",
    "        iii. Quantify the impact of lockdown on daily speeds, spatially.\n",
    "3. Open-Ended EDA: Understanding lockdown impact on traffic times\n",
    "    a. Download Uber Movement (Travel Times) dataset\n",
    "4. Guided Modeling: Predict traffic speed post-lockdown\n",
    "    a. Predict daily traffic speed on pre-lockdown data\n",
    "        i. Assemble dataset to predict daily traffic speed.\n",
    "        ii. Train and evaluate linear model on pre-lockdown data.\n",
    "    b. Understand failures on post-lockdown data\n",
    "        i. Evaluate on post-lockdown data\n",
    "        ii. Report model performance temporally\n",
    "    c. \"Fix\" model on post-lockdown data\n",
    "        i. Learn delta off of a moving bias\n",
    "        ii. Does it \"solve itself\"? Does the pre-lockdown model predict, after the change point?\n",
    "        iii. Naively retrain model with post-lockdown data\n",
    "        iv. What if you just ignore the change point?\n",
    "5. Open-Ended Modeling: Predicting travel times post-lockdown\n",
    "```\n",
    "\n",
    "Concepts tested: regex, pivot, join, grouping, inferential thinking"
   ]
  },
  {
   "cell_type": "code",
   "execution_count": 2,
   "id": "e77503b1",
   "metadata": {
    "scrolled": true
   },
   "outputs": [],
   "source": [
    "import pandas as pd\n",
    "import geopandas as gpd\n",
    "import numpy as np\n",
    "import csv\n",
    "import json\n",
    "import os\n",
    "import contextily as cx\n",
    "from collections import defaultdict\n",
    "import re\n",
    "from typing import Callable\n",
    "\n",
    "from sklearn.linear_model import LinearRegression\n",
    "import matplotlib.pyplot as plt\n",
    "\n",
    "from zipfile import ZipFile\n",
    "zf = ZipFile('data.zip', 'r')\n",
    "zf.extractall('.')"
   ]
  },
  {
   "cell_type": "markdown",
   "id": "09c6dcc2",
   "metadata": {
    "tags": []
   },
   "source": [
    "# Step 1 - Guided Data Cleaning: Partitioning Data Spatially\n",
    "\n",
    "Our hope is answer: How do we group information spatially? We'll specifically look at 2 ways of partitioning data spatially, to understand the impact of spatial partitioning strategies on our analyses:\n",
    "\n",
    "1. Dividing the world uniformly into slices, like Google's plus codes.\n",
    "2. Dividing the world according to population, using census tracts.\n",
    "\n",
    "In this step, we'll load the following datasets that we'll need for this project:\n",
    "\n",
    "- Daily travel times from Uber Movement data in March 2020 from San Francisco, by census tract\n",
    "- Daily traffic speeds from Uber Movement data in Q1 2020 from San Francisco, between OSM nodes\n",
    "- Census tracts dividing San Francisco by GPS coordinates\n",
    "- Mapping from OSM nodes to GPS coordinates\n",
    "\n",
    "There are several terms and concepts to get familiar with upfront:\n",
    "\n",
    "- **Open Street Maps (OSM)** provides nodes (points in space, [wiki](https://wiki.openstreetmap.org/wiki/Node)) and ways (segments between nodes [wiki](https://wiki.openstreetmap.org/wiki/Way)). These IDs are used in the Uber Movement dataset to identify streets in the traffic speeds dataset.\n",
    "- **Census Tracts** provided by the county of San Francisco geographically divides space according to the US 2010 Census. This is used in the Uber Movement dataset to identify regions of differing travel times."
   ]
  },
  {
   "cell_type": "markdown",
   "id": "40205426",
   "metadata": {
    "deletable": false,
    "editable": false
   },
   "source": [
    "## 1.a. Load Uber traffic speeds dataset\n",
    "\n",
    "The dataset is located at `data/movement-speeds-daily-san-francisco-2020-3.csv`. **Load this dataset into a dataframe.**\n",
    "\n",
    "*The original dataset from Uber was provided hourly and took up 2.1 GB on disk, which means it couldn't fit into your 1GB of RAM. You can find the dataset preparation script at `data/PrepareTrafficDataset.ipynb` which aggregated within each day, reducing the dataset to just 55MB on disk.*\n",
    "\n",
    "*This was originally going to be question in this project, but it takes 22 minutes to run. Better yet, if you mess up, your kernel dies and you start over. We deemed it too frustrating and preprocessed the dataset to spare you the pain... but just know that this is a real-world issue!*\n",
    "\n",
    "<!--\n",
    "BEGIN QUESTION\n",
    "name: q1a\n",
    "points: 1\n",
    "-->"
   ]
  },
  {
   "cell_type": "code",
   "execution_count": 3,
   "id": "c9a70334",
   "metadata": {},
   "outputs": [
    {
     "data": {
      "text/html": [
       "<div>\n",
       "<style scoped>\n",
       "    .dataframe tbody tr th:only-of-type {\n",
       "        vertical-align: middle;\n",
       "    }\n",
       "\n",
       "    .dataframe tbody tr th {\n",
       "        vertical-align: top;\n",
       "    }\n",
       "\n",
       "    .dataframe thead th {\n",
       "        text-align: right;\n",
       "    }\n",
       "</style>\n",
       "<table border=\"1\" class=\"dataframe\">\n",
       "  <thead>\n",
       "    <tr style=\"text-align: right;\">\n",
       "      <th></th>\n",
       "      <th>osm_start_node_id</th>\n",
       "      <th>osm_end_node_id</th>\n",
       "      <th>day</th>\n",
       "      <th>speed_mph_mean</th>\n",
       "    </tr>\n",
       "  </thead>\n",
       "  <tbody>\n",
       "    <tr>\n",
       "      <th>0</th>\n",
       "      <td>281266</td>\n",
       "      <td>702258940</td>\n",
       "      <td>1</td>\n",
       "      <td>59.674042</td>\n",
       "    </tr>\n",
       "    <tr>\n",
       "      <th>1</th>\n",
       "      <td>281266</td>\n",
       "      <td>702274215</td>\n",
       "      <td>1</td>\n",
       "      <td>68.444042</td>\n",
       "    </tr>\n",
       "    <tr>\n",
       "      <th>2</th>\n",
       "      <td>302876</td>\n",
       "      <td>240259516</td>\n",
       "      <td>1</td>\n",
       "      <td>66.446500</td>\n",
       "    </tr>\n",
       "    <tr>\n",
       "      <th>3</th>\n",
       "      <td>302878</td>\n",
       "      <td>437325360</td>\n",
       "      <td>1</td>\n",
       "      <td>65.516850</td>\n",
       "    </tr>\n",
       "    <tr>\n",
       "      <th>4</th>\n",
       "      <td>302883</td>\n",
       "      <td>65381191</td>\n",
       "      <td>1</td>\n",
       "      <td>61.880556</td>\n",
       "    </tr>\n",
       "    <tr>\n",
       "      <th>...</th>\n",
       "      <td>...</td>\n",
       "      <td>...</td>\n",
       "      <td>...</td>\n",
       "      <td>...</td>\n",
       "    </tr>\n",
       "    <tr>\n",
       "      <th>1586647</th>\n",
       "      <td>6569140748</td>\n",
       "      <td>1350115374</td>\n",
       "      <td>31</td>\n",
       "      <td>68.484833</td>\n",
       "    </tr>\n",
       "    <tr>\n",
       "      <th>1586648</th>\n",
       "      <td>6570476556</td>\n",
       "      <td>4551993266</td>\n",
       "      <td>31</td>\n",
       "      <td>36.837000</td>\n",
       "    </tr>\n",
       "    <tr>\n",
       "      <th>1586649</th>\n",
       "      <td>6573249373</td>\n",
       "      <td>4911384010</td>\n",
       "      <td>31</td>\n",
       "      <td>39.021000</td>\n",
       "    </tr>\n",
       "    <tr>\n",
       "      <th>1586650</th>\n",
       "      <td>6573553681</td>\n",
       "      <td>256888796</td>\n",
       "      <td>31</td>\n",
       "      <td>68.728333</td>\n",
       "    </tr>\n",
       "    <tr>\n",
       "      <th>1586651</th>\n",
       "      <td>6577722252</td>\n",
       "      <td>209835741</td>\n",
       "      <td>31</td>\n",
       "      <td>68.905538</td>\n",
       "    </tr>\n",
       "  </tbody>\n",
       "</table>\n",
       "<p>1586652 rows × 4 columns</p>\n",
       "</div>"
      ],
      "text/plain": [
       "         osm_start_node_id  osm_end_node_id  day  speed_mph_mean\n",
       "0                   281266        702258940    1       59.674042\n",
       "1                   281266        702274215    1       68.444042\n",
       "2                   302876        240259516    1       66.446500\n",
       "3                   302878        437325360    1       65.516850\n",
       "4                   302883         65381191    1       61.880556\n",
       "...                    ...              ...  ...             ...\n",
       "1586647         6569140748       1350115374   31       68.484833\n",
       "1586648         6570476556       4551993266   31       36.837000\n",
       "1586649         6573249373       4911384010   31       39.021000\n",
       "1586650         6573553681        256888796   31       68.728333\n",
       "1586651         6577722252        209835741   31       68.905538\n",
       "\n",
       "[1586652 rows x 4 columns]"
      ]
     },
     "execution_count": 3,
     "metadata": {},
     "output_type": "execute_result"
    }
   ],
   "source": [
    "# Load Uber Movement (Movement Speeds) dataset into dataframe\n",
    "speeds_to_nodes = pd.read_csv('data/movement-speeds-daily-san-francisco-2020-3.csv')\n",
    "\n",
    "speeds_to_nodes"
   ]
  },
  {
   "cell_type": "code",
   "execution_count": 4,
   "id": "d79c962a",
   "metadata": {
    "deletable": false,
    "editable": false
   },
   "outputs": [
    {
     "data": {
      "text/html": [
       "<p><strong><pre style='display: inline;'>q1a</pre></strong> passed!</p>"
      ],
      "text/plain": [
       "q1a results: All test cases passed!"
      ]
     },
     "execution_count": 4,
     "metadata": {},
     "output_type": "execute_result"
    }
   ],
   "source": [
    "grader.check(\"q1a\")"
   ]
  },
  {
   "cell_type": "markdown",
   "id": "6d64424a",
   "metadata": {
    "deletable": false,
    "editable": false
   },
   "source": [
    "<!-- BEGIN QUESTION -->\n",
    "\n",
    "## 1.b. Map traffic speed to Google Plus Codes\n",
    "\n",
    "Google Plus Codes divide up the world uniformly into rectangular slices ([link](https://maps.google.com/pluscodes/)). Let's use this to segment traffic speeds spatially. Take a moment to answer: **Is this spatial structure effective for summarizing traffic speed?** Before completing this section, substantiate your answer with examples of your expectations (e.g., we expect A to be separated from B). After completing this section, substantiate your answer with observations you've made.\n",
    "\n",
    "<!--\n",
    "BEGIN QUESTION\n",
    "name: q1b\n",
    "points: 2\n",
    "manual: True\n",
    "-->"
   ]
  },
  {
   "cell_type": "markdown",
   "id": "4d49da2e",
   "metadata": {},
   "source": [
    "* Intuitively, the spatial structure divided by Google Plus Codes should be effective to summarize traffic speed. Given that the traffic speeds should be relatively close to each other in the same plus_code_region while the speeds in different plus_code_region are supposed to be different, the Google Plus Code should give a good division of geographically regions.\n",
    "\n",
    "* After completing this section, we now go back to our prediction here and explain how our prediction makes sense. The differences between subpopulations (denoted by average_variance_by_pluscode=8.684748294968637 below) DO NOT outweight the differences within a subpopulation (denoted by variance_average_by_pluscode=10.136 below). However, as can be seen from histogram, most of the within subpopulation differences are quite small (<8mph). Thus, The differences between subpopulations should technically outweight the differences within a subpopulation. The smaller in-subpopulation differences and larger across-subpopulation differences make sense because the traffic speeds should be relatively close to each other in the same plus_code_region while the speeds in different plus_code_region are supposed to be different."
   ]
  },
  {
   "cell_type": "markdown",
   "id": "8050a06b",
   "metadata": {},
   "source": [
    "<!-- END QUESTION -->\n",
    "\n",
    "\n",
    "\n",
    "### 1.b.i. Load Node-to-GPS-Coordinate Data\n",
    "\n",
    "In this substep, we'll load a mapping from OSM nodes to GPS coordinates. The dataset is provided in a gzip'ed XML file from OpenStreetMaps (OSM). The mapping from OSM nodes to GPS coordinates was downloaded from https://download.bbbike.org/osm/bbbike/SanFrancisco/SanFrancisco.osm.gz. We've downloaded this for you, to avoid any issues with OSM updates.\n",
    "\n",
    "**If** you try to load the provided `.osm` (an `.xml` in disguise) using Python's built-in XML utilities **(by uncommenting the last 2 lines in the below cell)**, you will hit an out-of-memory error, as your kernel is forced to restart."
   ]
  },
  {
   "cell_type": "code",
   "execution_count": 5,
   "id": "ddaeddad",
   "metadata": {},
   "outputs": [],
   "source": [
    "# [OSM] - Read the OSM XML and extract mapping from node ID to GPS coordinates\n",
    "PATH_OSM = os.path.expanduser('data/SanFrancisco.osm')\n",
    "\n",
    "# Runs out of memory! File itself is 430 MB, even when filtering out\n",
    "# irrelevant rows, and remaining 3M rows are too expensive to parse,\n",
    "# resulting in OOM\n",
    "\n",
    "# import xml.etree.ElementTree as ET\n",
    "# _tree = ET.parse(PATH_OSM)"
   ]
  },
  {
   "cell_type": "markdown",
   "id": "9ec7a2c8",
   "metadata": {},
   "source": [
    "Your above code hits a memory error, so instead, we will use our handy-dandy tool--regex--from earlier in the semester to load just the parts of the file that we need. **Given the XML snippet below, write a regex pattern to extract OSM node ID, latitude, and longitude.** (The first capture group should be node ID. The second should be latitude, and the third should be longitude.) A snippet of the XML is included below ([screenshot](https://extract.bbbike.org/extract-screenshots.html)):\n",
    "\n",
    "```\n",
    "<?xml version='1.0' encoding='UTF-8'?>\n",
    "<osm version=\"0.6\" generator=\"osmconvert 0.8.3\">\n",
    "    <bounds minlat=\"42.4543\" minlon=\"-2.4761999\" maxlat=\"42.4...\"/>\n",
    "    <node id=\"26861066\" lat=\"42.471111\" lon=\"-2.454722\" version=\"...\"/>\n",
    "        <tag k=\"name\" v=\"Camping La Playa\"/>\n",
    "        <tag k=\"tourism\" v=\"camp_site\"/>\n",
    "        <tag k=\"operator\" v=\"private\"/>\n",
    "        ...\n",
    "    </node>\n",
    "    <node id=\"34793287\" lat=\"42.4713587\" lon=\"-2.4510783\" version=\"...\"/>\n",
    "        <tag k=\"created_by\" v=\"JOSM\"/>\n",
    "    </node>\n",
    "    <node id=\"34793294\" lat=\"42.4610836\" lon=\"-2.4303622\" version=\"...\"/>\n",
    "    <node id=\"34793297\" lat=\"42.4548363\" lon=\"-2.4287657\" version=\"...\"/>\n",
    "    ...\n",
    "</osm>\n",
    "```"
   ]
  },
  {
   "cell_type": "code",
   "execution_count": 6,
   "id": "9471b45f",
   "metadata": {
    "scrolled": true
   },
   "outputs": [],
   "source": [
    "# [OSM] - Read the OSM XML using a regex operation instead.\n",
    "def read_node_lat_lon(path: str, pattern: str, line_condition: Callable):\n",
    "    \"\"\"\n",
    "    Read the provided path line at a line. If the provided regex pattern\n",
    "    has a match, return the grouped matches as items in a generator.\n",
    "    \n",
    "    :param path: Path to read data from\n",
    "    :param pattern: Regex pattern to test against each line\n",
    "    :param line_condition: function that returns if we should check regex\n",
    "        against current line\n",
    "    \"\"\"\n",
    "    with open(path) as f:\n",
    "        for line in f:\n",
    "            result = re.search(pattern, line)\n",
    "            if result is not None and line_condition(result):\n",
    "                yield int(result.group(1)), float(result.group(2)), float(result.group(3))"
   ]
  },
  {
   "cell_type": "code",
   "execution_count": 7,
   "id": "3484a21d",
   "metadata": {},
   "outputs": [
    {
     "data": {
      "text/html": [
       "<div>\n",
       "<style scoped>\n",
       "    .dataframe tbody tr th:only-of-type {\n",
       "        vertical-align: middle;\n",
       "    }\n",
       "\n",
       "    .dataframe tbody tr th {\n",
       "        vertical-align: top;\n",
       "    }\n",
       "\n",
       "    .dataframe thead th {\n",
       "        text-align: right;\n",
       "    }\n",
       "</style>\n",
       "<table border=\"1\" class=\"dataframe\">\n",
       "  <thead>\n",
       "    <tr style=\"text-align: right;\">\n",
       "      <th></th>\n",
       "      <th>osm_node_id</th>\n",
       "      <th>Latitude</th>\n",
       "      <th>Longitude</th>\n",
       "    </tr>\n",
       "  </thead>\n",
       "  <tbody>\n",
       "    <tr>\n",
       "      <th>0</th>\n",
       "      <td>26118026</td>\n",
       "      <td>37.675280</td>\n",
       "      <td>-122.389194</td>\n",
       "    </tr>\n",
       "    <tr>\n",
       "      <th>1</th>\n",
       "      <td>29891973</td>\n",
       "      <td>37.674935</td>\n",
       "      <td>-122.389130</td>\n",
       "    </tr>\n",
       "    <tr>\n",
       "      <th>2</th>\n",
       "      <td>29892598</td>\n",
       "      <td>37.716892</td>\n",
       "      <td>-122.398893</td>\n",
       "    </tr>\n",
       "    <tr>\n",
       "      <th>3</th>\n",
       "      <td>30033679</td>\n",
       "      <td>37.599877</td>\n",
       "      <td>-122.376497</td>\n",
       "    </tr>\n",
       "    <tr>\n",
       "      <th>4</th>\n",
       "      <td>30033686</td>\n",
       "      <td>37.642167</td>\n",
       "      <td>-122.405946</td>\n",
       "    </tr>\n",
       "    <tr>\n",
       "      <th>...</th>\n",
       "      <td>...</td>\n",
       "      <td>...</td>\n",
       "      <td>...</td>\n",
       "    </tr>\n",
       "    <tr>\n",
       "      <th>19139</th>\n",
       "      <td>6522255428</td>\n",
       "      <td>37.760543</td>\n",
       "      <td>-122.443563</td>\n",
       "    </tr>\n",
       "    <tr>\n",
       "      <th>19140</th>\n",
       "      <td>6522255492</td>\n",
       "      <td>37.759317</td>\n",
       "      <td>-122.444996</td>\n",
       "    </tr>\n",
       "    <tr>\n",
       "      <th>19141</th>\n",
       "      <td>6522764204</td>\n",
       "      <td>37.762163</td>\n",
       "      <td>-122.436143</td>\n",
       "    </tr>\n",
       "    <tr>\n",
       "      <th>19142</th>\n",
       "      <td>6522764212</td>\n",
       "      <td>37.756061</td>\n",
       "      <td>-122.436761</td>\n",
       "    </tr>\n",
       "    <tr>\n",
       "      <th>19143</th>\n",
       "      <td>6522764213</td>\n",
       "      <td>37.761187</td>\n",
       "      <td>-122.440089</td>\n",
       "    </tr>\n",
       "  </tbody>\n",
       "</table>\n",
       "<p>19144 rows × 3 columns</p>\n",
       "</div>"
      ],
      "text/plain": [
       "       osm_node_id   Latitude   Longitude\n",
       "0         26118026  37.675280 -122.389194\n",
       "1         29891973  37.674935 -122.389130\n",
       "2         29892598  37.716892 -122.398893\n",
       "3         30033679  37.599877 -122.376497\n",
       "4         30033686  37.642167 -122.405946\n",
       "...            ...        ...         ...\n",
       "19139   6522255428  37.760543 -122.443563\n",
       "19140   6522255492  37.759317 -122.444996\n",
       "19141   6522764204  37.762163 -122.436143\n",
       "19142   6522764212  37.756061 -122.436761\n",
       "19143   6522764213  37.761187 -122.440089\n",
       "\n",
       "[19144 rows x 3 columns]"
      ]
     },
     "execution_count": 7,
     "metadata": {},
     "output_type": "execute_result"
    }
   ],
   "source": [
    "node_ids = set(speeds_to_nodes.osm_start_node_id) | set(speeds_to_nodes.osm_end_node_id)\n",
    "\n",
    "NODE_PATTERN = r'id=\"(\\d+)\"\\slat=\"([-]?\\d+.\\d*)\"\\slon=\"([-]?\\d+.\\d*)\"'\n",
    "\n",
    "node_to_gps = pd.DataFrame(read_node_lat_lon(\n",
    "    PATH_OSM,\n",
    "    pattern=NODE_PATTERN,\n",
    "    line_condition=lambda result: int(result.group(1)) in node_ids\n",
    "), columns=['osm_node_id', 'Latitude', 'Longitude'])\n",
    "node_to_gps"
   ]
  },
  {
   "cell_type": "code",
   "execution_count": 8,
   "id": "a5f2aba8",
   "metadata": {
    "deletable": false,
    "editable": false
   },
   "outputs": [
    {
     "data": {
      "text/html": [
       "<p><strong><pre style='display: inline;'>q1bi</pre></strong> passed!</p>"
      ],
      "text/plain": [
       "q1bi results: All test cases passed!"
      ]
     },
     "execution_count": 8,
     "metadata": {},
     "output_type": "execute_result"
    }
   ],
   "source": [
    "grader.check(\"q1bi\")"
   ]
  },
  {
   "cell_type": "markdown",
   "id": "63546f6c",
   "metadata": {
    "deletable": false,
    "editable": false
   },
   "source": [
    "### 1.b.ii. Map traffic speed to GPS coordinates.\n",
    "\n",
    "Traffic speeds are currently connected to OSM nodes. You will then use the mapping from OSM nodes to GPS coordinates, to map traffic speeds to GPS coordinates. **Link each traffic speed measurement to the GPS coordinate of its starting node.**\n",
    "\n",
    "**Note**: For simplicity, assume each segment is associated with the node it *starts* with. \n",
    "\n",
    "**Hint**: Not all nodes are included in the OSM node mapping. Make sure to ignore any nodes without valid GPS coordinates.\n",
    "\n",
    "<!--\n",
    "BEGIN QUESTION\n",
    "name: q1bii\n",
    "points: 3\n",
    "-->"
   ]
  },
  {
   "cell_type": "code",
   "execution_count": 9,
   "id": "c084cbe9",
   "metadata": {
    "scrolled": true
   },
   "outputs": [
    {
     "data": {
      "text/html": [
       "<div>\n",
       "<style scoped>\n",
       "    .dataframe tbody tr th:only-of-type {\n",
       "        vertical-align: middle;\n",
       "    }\n",
       "\n",
       "    .dataframe tbody tr th {\n",
       "        vertical-align: top;\n",
       "    }\n",
       "\n",
       "    .dataframe thead th {\n",
       "        text-align: right;\n",
       "    }\n",
       "</style>\n",
       "<table border=\"1\" class=\"dataframe\">\n",
       "  <thead>\n",
       "    <tr style=\"text-align: right;\">\n",
       "      <th></th>\n",
       "      <th>osm_start_node_id</th>\n",
       "      <th>osm_end_node_id</th>\n",
       "      <th>day</th>\n",
       "      <th>speed_mph_mean</th>\n",
       "      <th>Latitude</th>\n",
       "      <th>Longitude</th>\n",
       "    </tr>\n",
       "  </thead>\n",
       "  <tbody>\n",
       "    <tr>\n",
       "      <th>141</th>\n",
       "      <td>26118026</td>\n",
       "      <td>259458979</td>\n",
       "      <td>1</td>\n",
       "      <td>64.478000</td>\n",
       "      <td>37.675280</td>\n",
       "      <td>-122.389194</td>\n",
       "    </tr>\n",
       "    <tr>\n",
       "      <th>78177</th>\n",
       "      <td>26118026</td>\n",
       "      <td>259458979</td>\n",
       "      <td>2</td>\n",
       "      <td>62.868208</td>\n",
       "      <td>37.675280</td>\n",
       "      <td>-122.389194</td>\n",
       "    </tr>\n",
       "    <tr>\n",
       "      <th>180660</th>\n",
       "      <td>26118026</td>\n",
       "      <td>259458979</td>\n",
       "      <td>3</td>\n",
       "      <td>62.211750</td>\n",
       "      <td>37.675280</td>\n",
       "      <td>-122.389194</td>\n",
       "    </tr>\n",
       "    <tr>\n",
       "      <th>288425</th>\n",
       "      <td>26118026</td>\n",
       "      <td>259458979</td>\n",
       "      <td>4</td>\n",
       "      <td>62.192458</td>\n",
       "      <td>37.675280</td>\n",
       "      <td>-122.389194</td>\n",
       "    </tr>\n",
       "    <tr>\n",
       "      <th>395950</th>\n",
       "      <td>26118026</td>\n",
       "      <td>259458979</td>\n",
       "      <td>5</td>\n",
       "      <td>61.913292</td>\n",
       "      <td>37.675280</td>\n",
       "      <td>-122.389194</td>\n",
       "    </tr>\n",
       "    <tr>\n",
       "      <th>...</th>\n",
       "      <td>...</td>\n",
       "      <td>...</td>\n",
       "      <td>...</td>\n",
       "      <td>...</td>\n",
       "      <td>...</td>\n",
       "      <td>...</td>\n",
       "    </tr>\n",
       "    <tr>\n",
       "      <th>1572913</th>\n",
       "      <td>4069109544</td>\n",
       "      <td>615120176</td>\n",
       "      <td>30</td>\n",
       "      <td>38.956000</td>\n",
       "      <td>37.732039</td>\n",
       "      <td>-122.507126</td>\n",
       "    </tr>\n",
       "    <tr>\n",
       "      <th>1374185</th>\n",
       "      <td>5448539901</td>\n",
       "      <td>65446993</td>\n",
       "      <td>16</td>\n",
       "      <td>25.627000</td>\n",
       "      <td>37.622476</td>\n",
       "      <td>-122.413763</td>\n",
       "    </tr>\n",
       "    <tr>\n",
       "      <th>1424401</th>\n",
       "      <td>302964668</td>\n",
       "      <td>4069109544</td>\n",
       "      <td>19</td>\n",
       "      <td>40.802000</td>\n",
       "      <td>37.732418</td>\n",
       "      <td>-122.507206</td>\n",
       "    </tr>\n",
       "    <tr>\n",
       "      <th>1441768</th>\n",
       "      <td>302964668</td>\n",
       "      <td>4069109544</td>\n",
       "      <td>20</td>\n",
       "      <td>36.076000</td>\n",
       "      <td>37.732418</td>\n",
       "      <td>-122.507206</td>\n",
       "    </tr>\n",
       "    <tr>\n",
       "      <th>1431448</th>\n",
       "      <td>5022068066</td>\n",
       "      <td>302964668</td>\n",
       "      <td>19</td>\n",
       "      <td>39.592000</td>\n",
       "      <td>37.733635</td>\n",
       "      <td>-122.507100</td>\n",
       "    </tr>\n",
       "  </tbody>\n",
       "</table>\n",
       "<p>417639 rows × 6 columns</p>\n",
       "</div>"
      ],
      "text/plain": [
       "         osm_start_node_id  osm_end_node_id  day  speed_mph_mean   Latitude  \\\n",
       "141               26118026        259458979    1       64.478000  37.675280   \n",
       "78177             26118026        259458979    2       62.868208  37.675280   \n",
       "180660            26118026        259458979    3       62.211750  37.675280   \n",
       "288425            26118026        259458979    4       62.192458  37.675280   \n",
       "395950            26118026        259458979    5       61.913292  37.675280   \n",
       "...                    ...              ...  ...             ...        ...   \n",
       "1572913         4069109544        615120176   30       38.956000  37.732039   \n",
       "1374185         5448539901         65446993   16       25.627000  37.622476   \n",
       "1424401          302964668       4069109544   19       40.802000  37.732418   \n",
       "1441768          302964668       4069109544   20       36.076000  37.732418   \n",
       "1431448         5022068066        302964668   19       39.592000  37.733635   \n",
       "\n",
       "          Longitude  \n",
       "141     -122.389194  \n",
       "78177   -122.389194  \n",
       "180660  -122.389194  \n",
       "288425  -122.389194  \n",
       "395950  -122.389194  \n",
       "...             ...  \n",
       "1572913 -122.507126  \n",
       "1374185 -122.413763  \n",
       "1424401 -122.507206  \n",
       "1441768 -122.507206  \n",
       "1431448 -122.507100  \n",
       "\n",
       "[417639 rows x 6 columns]"
      ]
     },
     "execution_count": 9,
     "metadata": {},
     "output_type": "execute_result"
    }
   ],
   "source": [
    "# Find mapping from traffic speeds to GPS coordinates\n",
    "speeds_to_gps = speeds_to_nodes.join(node_to_gps.set_index(\"osm_node_id\"), on='osm_start_node_id', how = \"inner\")\n",
    "speeds_to_gps\n",
    "# speeds_to_nodes"
   ]
  },
  {
   "cell_type": "code",
   "execution_count": 10,
   "id": "687258b6",
   "metadata": {
    "deletable": false,
    "editable": false
   },
   "outputs": [
    {
     "data": {
      "text/html": [
       "<p><strong><pre style='display: inline;'>q1bii</pre></strong> passed!</p>"
      ],
      "text/plain": [
       "q1bii results: All test cases passed!"
      ]
     },
     "execution_count": 10,
     "metadata": {},
     "output_type": "execute_result"
    }
   ],
   "source": [
    "grader.check(\"q1bii\")"
   ]
  },
  {
   "cell_type": "markdown",
   "id": "3fd8ba24",
   "metadata": {
    "deletable": false,
    "editable": false
   },
   "source": [
    "### 1.b.iii. Convert GPS coordinates to plus code regions.\n",
    "\n",
    "Plus code regions divide up the world into uniformly-sized rectangles, which we will assume is 0.012 degrees latitudiunally and longitudinally. **For each traffic speed row, compute the plus code region it belongs to**, based on its GPS coordinates.\n",
    "\n",
    "To do this, we suggest computing a latitudinal index `plus_latitude_idx` and a longitudinal index `plus_longitude_idx` for the plus code region each row belongs to. *Make sure these columns are integer-valued*.\n",
    "\n",
    "**Hint**: If you're running into nans, you did 1.b.ii. incorrectly!\n",
    "\n",
    "<!--\n",
    "BEGIN QUESTION\n",
    "name: q1biii\n",
    "points: 3\n",
    "-->"
   ]
  },
  {
   "cell_type": "code",
   "execution_count": 11,
   "id": "7158430b",
   "metadata": {},
   "outputs": [
    {
     "data": {
      "text/html": [
       "<div>\n",
       "<style scoped>\n",
       "    .dataframe tbody tr th:only-of-type {\n",
       "        vertical-align: middle;\n",
       "    }\n",
       "\n",
       "    .dataframe tbody tr th {\n",
       "        vertical-align: top;\n",
       "    }\n",
       "\n",
       "    .dataframe thead th {\n",
       "        text-align: right;\n",
       "    }\n",
       "</style>\n",
       "<table border=\"1\" class=\"dataframe\">\n",
       "  <thead>\n",
       "    <tr style=\"text-align: right;\">\n",
       "      <th></th>\n",
       "      <th>osm_start_node_id</th>\n",
       "      <th>osm_end_node_id</th>\n",
       "      <th>day</th>\n",
       "      <th>speed_mph_mean</th>\n",
       "      <th>Latitude</th>\n",
       "      <th>Longitude</th>\n",
       "      <th>plus_latitude_idx</th>\n",
       "      <th>plus_longitude_idx</th>\n",
       "    </tr>\n",
       "  </thead>\n",
       "  <tbody>\n",
       "    <tr>\n",
       "      <th>141</th>\n",
       "      <td>26118026</td>\n",
       "      <td>259458979</td>\n",
       "      <td>1</td>\n",
       "      <td>64.478000</td>\n",
       "      <td>37.675280</td>\n",
       "      <td>-122.389194</td>\n",
       "      <td>3139</td>\n",
       "      <td>-10200</td>\n",
       "    </tr>\n",
       "    <tr>\n",
       "      <th>78177</th>\n",
       "      <td>26118026</td>\n",
       "      <td>259458979</td>\n",
       "      <td>2</td>\n",
       "      <td>62.868208</td>\n",
       "      <td>37.675280</td>\n",
       "      <td>-122.389194</td>\n",
       "      <td>3139</td>\n",
       "      <td>-10200</td>\n",
       "    </tr>\n",
       "    <tr>\n",
       "      <th>180660</th>\n",
       "      <td>26118026</td>\n",
       "      <td>259458979</td>\n",
       "      <td>3</td>\n",
       "      <td>62.211750</td>\n",
       "      <td>37.675280</td>\n",
       "      <td>-122.389194</td>\n",
       "      <td>3139</td>\n",
       "      <td>-10200</td>\n",
       "    </tr>\n",
       "    <tr>\n",
       "      <th>288425</th>\n",
       "      <td>26118026</td>\n",
       "      <td>259458979</td>\n",
       "      <td>4</td>\n",
       "      <td>62.192458</td>\n",
       "      <td>37.675280</td>\n",
       "      <td>-122.389194</td>\n",
       "      <td>3139</td>\n",
       "      <td>-10200</td>\n",
       "    </tr>\n",
       "    <tr>\n",
       "      <th>395950</th>\n",
       "      <td>26118026</td>\n",
       "      <td>259458979</td>\n",
       "      <td>5</td>\n",
       "      <td>61.913292</td>\n",
       "      <td>37.675280</td>\n",
       "      <td>-122.389194</td>\n",
       "      <td>3139</td>\n",
       "      <td>-10200</td>\n",
       "    </tr>\n",
       "    <tr>\n",
       "      <th>...</th>\n",
       "      <td>...</td>\n",
       "      <td>...</td>\n",
       "      <td>...</td>\n",
       "      <td>...</td>\n",
       "      <td>...</td>\n",
       "      <td>...</td>\n",
       "      <td>...</td>\n",
       "      <td>...</td>\n",
       "    </tr>\n",
       "    <tr>\n",
       "      <th>1572913</th>\n",
       "      <td>4069109544</td>\n",
       "      <td>615120176</td>\n",
       "      <td>30</td>\n",
       "      <td>38.956000</td>\n",
       "      <td>37.732039</td>\n",
       "      <td>-122.507126</td>\n",
       "      <td>3144</td>\n",
       "      <td>-10209</td>\n",
       "    </tr>\n",
       "    <tr>\n",
       "      <th>1374185</th>\n",
       "      <td>5448539901</td>\n",
       "      <td>65446993</td>\n",
       "      <td>16</td>\n",
       "      <td>25.627000</td>\n",
       "      <td>37.622476</td>\n",
       "      <td>-122.413763</td>\n",
       "      <td>3135</td>\n",
       "      <td>-10202</td>\n",
       "    </tr>\n",
       "    <tr>\n",
       "      <th>1424401</th>\n",
       "      <td>302964668</td>\n",
       "      <td>4069109544</td>\n",
       "      <td>19</td>\n",
       "      <td>40.802000</td>\n",
       "      <td>37.732418</td>\n",
       "      <td>-122.507206</td>\n",
       "      <td>3144</td>\n",
       "      <td>-10209</td>\n",
       "    </tr>\n",
       "    <tr>\n",
       "      <th>1441768</th>\n",
       "      <td>302964668</td>\n",
       "      <td>4069109544</td>\n",
       "      <td>20</td>\n",
       "      <td>36.076000</td>\n",
       "      <td>37.732418</td>\n",
       "      <td>-122.507206</td>\n",
       "      <td>3144</td>\n",
       "      <td>-10209</td>\n",
       "    </tr>\n",
       "    <tr>\n",
       "      <th>1431448</th>\n",
       "      <td>5022068066</td>\n",
       "      <td>302964668</td>\n",
       "      <td>19</td>\n",
       "      <td>39.592000</td>\n",
       "      <td>37.733635</td>\n",
       "      <td>-122.507100</td>\n",
       "      <td>3144</td>\n",
       "      <td>-10209</td>\n",
       "    </tr>\n",
       "  </tbody>\n",
       "</table>\n",
       "<p>417639 rows × 8 columns</p>\n",
       "</div>"
      ],
      "text/plain": [
       "         osm_start_node_id  osm_end_node_id  day  speed_mph_mean   Latitude  \\\n",
       "141               26118026        259458979    1       64.478000  37.675280   \n",
       "78177             26118026        259458979    2       62.868208  37.675280   \n",
       "180660            26118026        259458979    3       62.211750  37.675280   \n",
       "288425            26118026        259458979    4       62.192458  37.675280   \n",
       "395950            26118026        259458979    5       61.913292  37.675280   \n",
       "...                    ...              ...  ...             ...        ...   \n",
       "1572913         4069109544        615120176   30       38.956000  37.732039   \n",
       "1374185         5448539901         65446993   16       25.627000  37.622476   \n",
       "1424401          302964668       4069109544   19       40.802000  37.732418   \n",
       "1441768          302964668       4069109544   20       36.076000  37.732418   \n",
       "1431448         5022068066        302964668   19       39.592000  37.733635   \n",
       "\n",
       "          Longitude  plus_latitude_idx  plus_longitude_idx  \n",
       "141     -122.389194               3139              -10200  \n",
       "78177   -122.389194               3139              -10200  \n",
       "180660  -122.389194               3139              -10200  \n",
       "288425  -122.389194               3139              -10200  \n",
       "395950  -122.389194               3139              -10200  \n",
       "...             ...                ...                 ...  \n",
       "1572913 -122.507126               3144              -10209  \n",
       "1374185 -122.413763               3135              -10202  \n",
       "1424401 -122.507206               3144              -10209  \n",
       "1441768 -122.507206               3144              -10209  \n",
       "1431448 -122.507100               3144              -10209  \n",
       "\n",
       "[417639 rows x 8 columns]"
      ]
     },
     "execution_count": 11,
     "metadata": {},
     "output_type": "execute_result"
    }
   ],
   "source": [
    "speeds_to_gps[\"plus_latitude_idx\"] = (speeds_to_gps[\"Latitude\"] // 0.012).map(lambda x: int(x)) # do this however you like\n",
    "speeds_to_gps[\"plus_longitude_idx\"] = (speeds_to_gps[\"Longitude\"] // 0.012).map(lambda x: int(x))\n",
    "\n",
    "speeds_to_gps"
   ]
  },
  {
   "cell_type": "code",
   "execution_count": 12,
   "id": "fc936bfb",
   "metadata": {
    "deletable": false,
    "editable": false
   },
   "outputs": [
    {
     "data": {
      "text/html": [
       "<p><strong><pre style='display: inline;'>q1biii</pre></strong> passed!</p>"
      ],
      "text/plain": [
       "q1biii results: All test cases passed!"
      ]
     },
     "execution_count": 12,
     "metadata": {},
     "output_type": "execute_result"
    }
   ],
   "source": [
    "grader.check(\"q1biii\")"
   ]
  },
  {
   "cell_type": "markdown",
   "id": "7e8161d5",
   "metadata": {
    "deletable": false,
    "editable": false
   },
   "source": [
    "### 1.b.iv. Sanity check number of plus code regions in San Francisco.\n",
    "\n",
    "**Compute the number of unique plus codes found in your dataset**. You're checking that the number isn't ridiculous, like 1, or 100,000 (SF is 231 sq mi, so 100k tracts would average 12 sq ft per tract).\n",
    "\n",
    "If you followed the suggestion above, this is the number of unique `(plus_latitude_idx, plus_longitude_idx)` pairs.\n",
    "\n",
    "<!--\n",
    "BEGIN QUESTION\n",
    "name: q1biv\n",
    "points: 4\n",
    "-->"
   ]
  },
  {
   "cell_type": "code",
   "execution_count": 13,
   "id": "49a69d60",
   "metadata": {},
   "outputs": [
    {
     "data": {
      "text/plain": [
       "276"
      ]
     },
     "execution_count": 13,
     "metadata": {},
     "output_type": "execute_result"
    }
   ],
   "source": [
    "# You're expecting 276 plus codes here. Don't just type \"276\" \n",
    "# below to pass the autograder. The goal is to sanity check your \n",
    "# dataframe!\n",
    "unique_tuples = speeds_to_gps[\"plus_latitude_idx\"] * 100000000 + speeds_to_gps[\"plus_longitude_idx\"]\n",
    "num_pluscode_regions = len(unique_tuples.unique())\n",
    "num_pluscode_regions"
   ]
  },
  {
   "cell_type": "code",
   "execution_count": 14,
   "id": "32c3926e",
   "metadata": {
    "deletable": false,
    "editable": false
   },
   "outputs": [
    {
     "data": {
      "text/html": [
       "<p><strong><pre style='display: inline;'>q1biv</pre></strong> passed!</p>"
      ],
      "text/plain": [
       "q1biv results: All test cases passed!"
      ]
     },
     "execution_count": 14,
     "metadata": {},
     "output_type": "execute_result"
    }
   ],
   "source": [
    "grader.check(\"q1biv\")"
   ]
  },
  {
   "cell_type": "markdown",
   "id": "9c9fef50",
   "metadata": {
    "deletable": false,
    "editable": false
   },
   "source": [
    "<!-- BEGIN QUESTION -->\n",
    "\n",
    "### 1.b.v. How well do plus code regions summarize movement speeds?\n",
    "\n",
    "The following will give us an idea of how well the average represents traffic speed per plus code region. For these questions, we'll refer to a \"plus code region\" as a \"cluster\":\n",
    "\n",
    "1. **Plot a histogram of the within-cluster standard deviation**.\n",
    "2. **Compute across-cluster average of within-cluster standard deviation**.\n",
    "3. **Compute across-cluster standard deviation of within-cluster average speeds**.\n",
    "4. **Is this average variance reasonable?** To assess what \"reasonable\" means, consider these questions and how to answer them: (1) Do plus codes capture meaningful subpopulations? (2) Do differences between subpopulations outweigh differences within a subpopulation? Use the statistics above to answer these questions, and compute any additional statistics you need. Additionally explain *why these questions are important to assessing the quality of a spatial clustering*.\n",
    "\n",
    "**Hint**: Run the autograder first to ensure your variance average and average variance are correct, before starting to draw conclusions.\n",
    "\n",
    "In the first cell, write your written answers. In the second cell, complete the code.\n",
    "\n",
    "<!--\n",
    "BEGIN QUESTION\n",
    "name: q1bv1\n",
    "points: 2\n",
    "manual: True\n",
    "-->\n",
    "\n"
   ]
  },
  {
   "cell_type": "markdown",
   "id": "20fbf802",
   "metadata": {},
   "source": [
    "* The average variance is overall reasonable. \n",
    "* Firstly, the histogram of speed_variance_by_pluscode is skewed to the right and has a mode of around 5-7. As most of the small average speed variances are generally small (<10 mph), this small variance is reasonable and aligned with our real life as the traffic would of the similar speed in the same geographical region. \n",
    "* While there are several relatively large speed variance above 15 mph, this large variance could be explained by the speedup and slow-down of traffic when the traffic light turns red or green. Thus, our experience with reality could easily explain the observations of speeds_to_gps in this right-skewed histogram.\n",
    "* The differences between subpopulations (denoted by average_variance_by_pluscode=8.684748294968637 below) DO NOT outweight the differences within a subpopulation (denoted by variance_average_by_pluscode=10.136 below). However, as can be seen from histogram, most of the within subpopulation differences are quite small (<8mph). Thus, The differences between subpopulations should technically outweight the differences within a subpopulation. The smaller in-subpopulation differences and larger across-subpopulation differences make sense because the traffic speeds should be relatively close to each other in the same plus_code_region while the speeds in different plus_code_region are supposed to be different."
   ]
  },
  {
   "cell_type": "markdown",
   "id": "0cac353b",
   "metadata": {
    "deletable": false,
    "editable": false
   },
   "source": [
    "<!-- END QUESTION -->\n",
    "\n",
    "<!-- BEGIN QUESTION -->\n",
    "\n",
    "<!--\n",
    "BEGIN QUESTION\n",
    "name: q1bv2\n",
    "points: 2\n",
    "manual: True\n",
    "-->"
   ]
  },
  {
   "cell_type": "code",
   "execution_count": 15,
   "id": "4fac87bc",
   "metadata": {
    "scrolled": true
   },
   "outputs": [
    {
     "data": {
      "text/plain": [
       "10.13573858675904"
      ]
     },
     "execution_count": 15,
     "metadata": {},
     "output_type": "execute_result"
    },
    {
     "data": {
      "image/png": "[encoded data removed]",
      "text/plain": [
       "<Figure size 432x288 with 1 Axes>"
      ]
     },
     "metadata": {
      "needs_background": "light"
     },
     "output_type": "display_data"
    }
   ],
   "source": [
    "# compute traffic speed variance in each plus code region\n",
    "speed_variance_by_pluscode = speeds_to_gps.groupby([\"plus_latitude_idx\", \"plus_longitude_idx\"]).std()[\"speed_mph_mean\"] \n",
    "# plot a histogram\n",
    "ax = speed_variance_by_pluscode.plot(kind='hist', title='Traffic Speed Variance In Each Plus Code Region') \n",
    "ax.set_xlabel(\"Standard Deviation of Mean Speed (mph)\")\n",
    "ax.set_ylabel(\"Count\");\n",
    "average_variance_by_pluscode = speed_variance_by_pluscode.mean()\n",
    "variance_average_by_pluscode = (speeds_to_gps.groupby([\"plus_latitude_idx\", \"plus_longitude_idx\"]).mean()[\"speed_mph_mean\"]).std()\n",
    "variance_average_by_pluscode"
   ]
  },
  {
   "cell_type": "code",
   "execution_count": 16,
   "id": "6f6caa04-ea6f-44fa-bc57-684f11fdda51",
   "metadata": {},
   "outputs": [
    {
     "data": {
      "text/plain": [
       "plus_latitude_idx  plus_longitude_idx\n",
       "3128               -10210                 3.650232\n",
       "                   -10198                20.704487\n",
       "                   -10194                12.342234\n",
       "3129               -10210                 4.083821\n",
       "                   -10199                21.390912\n",
       "                                           ...    \n",
       "3160               -10198                15.293632\n",
       "                   -10197                17.915911\n",
       "                   -10196                14.243592\n",
       "                   -10195                12.237229\n",
       "                   -10194                17.590817\n",
       "Name: speed_mph_mean, Length: 276, dtype: float64"
      ]
     },
     "execution_count": 16,
     "metadata": {},
     "output_type": "execute_result"
    }
   ],
   "source": [
    "speed_variance_by_pluscode"
   ]
  },
  {
   "cell_type": "markdown",
   "id": "192a5447",
   "metadata": {
    "deletable": false,
    "editable": false
   },
   "source": [
    "<!-- END QUESTION -->\n",
    "\n",
    "<!--\n",
    "BEGIN QUESTION\n",
    "name: q1bv3\n",
    "points: 3\n",
    "-->"
   ]
  },
  {
   "cell_type": "code",
   "execution_count": 17,
   "id": "ad2a8a6b",
   "metadata": {
    "deletable": false,
    "editable": false
   },
   "outputs": [
    {
     "data": {
      "text/html": [
       "<p><strong><pre style='display: inline;'>q1bv3</pre></strong> passed!</p>"
      ],
      "text/plain": [
       "q1bv3 results: All test cases passed!"
      ]
     },
     "execution_count": 17,
     "metadata": {},
     "output_type": "execute_result"
    }
   ],
   "source": [
    "grader.check(\"q1bv3\")"
   ]
  },
  {
   "cell_type": "markdown",
   "id": "3fa19d7c",
   "metadata": {},
   "source": [
    "## 1.c. Map traffic speed to census tract.\n",
    "\n",
    "Census tracts divide the space much less uniformly, subdividing regions that we were interested in into smaller zones. This suggests promise in providing informative spatial segments. Note that the daily traffic speeds are provided between OpenStreetMap (OSM) nodes, so we'll need to map nodes to census tracts somehow.\n",
    "\n",
    "Above, we've mapped traffic speeds to GPS coordinates. Below, we'll then link GPS coordinates to census tracts, to complete the mapping from traffic speeds to census tracts."
   ]
  },
  {
   "cell_type": "markdown",
   "id": "07bb747f",
   "metadata": {
    "deletable": false,
    "editable": false
   },
   "source": [
    "### 1.c.i. Download Census Tracts Geojson\n",
    "\n",
    "**Load the census tracts geojson.** Make sure to see the relevant [geopandas io documentation](https://geopandas.org/docs/user_guide/io.html) to see how to load a geojson.\n",
    "\n",
    "**Hint**: It should take you just one line to load.\n",
    "\n",
    "<!--\n",
    "BEGIN QUESTION\n",
    "name: q1ci\n",
    "points: 1\n",
    "-->"
   ]
  },
  {
   "cell_type": "code",
   "execution_count": 18,
   "id": "4e2dbfaf",
   "metadata": {
    "scrolled": true
   },
   "outputs": [
    {
     "data": {
      "text/html": [
       "<div>\n",
       "<style scoped>\n",
       "    .dataframe tbody tr th:only-of-type {\n",
       "        vertical-align: middle;\n",
       "    }\n",
       "\n",
       "    .dataframe tbody tr th {\n",
       "        vertical-align: top;\n",
       "    }\n",
       "\n",
       "    .dataframe thead th {\n",
       "        text-align: right;\n",
       "    }\n",
       "</style>\n",
       "<table border=\"1\" class=\"dataframe\">\n",
       "  <thead>\n",
       "    <tr style=\"text-align: right;\">\n",
       "      <th></th>\n",
       "      <th>MOVEMENT_ID</th>\n",
       "      <th>DISPLAY_NAME</th>\n",
       "      <th>geometry</th>\n",
       "    </tr>\n",
       "  </thead>\n",
       "  <tbody>\n",
       "    <tr>\n",
       "      <th>0</th>\n",
       "      <td>1</td>\n",
       "      <td>Sargent Creek, San Ardo</td>\n",
       "      <td>MULTIPOLYGON (((-121.59511 36.11126, -121.5401...</td>\n",
       "    </tr>\n",
       "    <tr>\n",
       "      <th>1</th>\n",
       "      <td>2</td>\n",
       "      <td>400 Northumberland Avenue, Redwood Oaks, Redwo...</td>\n",
       "      <td>MULTIPOLYGON (((-122.22463 37.46507, -122.2236...</td>\n",
       "    </tr>\n",
       "    <tr>\n",
       "      <th>2</th>\n",
       "      <td>3</td>\n",
       "      <td>18300 Sutter Boulevard, Morgan Hill</td>\n",
       "      <td>MULTIPOLYGON (((-121.67978 37.15859, -121.6719...</td>\n",
       "    </tr>\n",
       "    <tr>\n",
       "      <th>3</th>\n",
       "      <td>4</td>\n",
       "      <td>2700 Stoughton Way, Sheffield, Sacramento</td>\n",
       "      <td>MULTIPOLYGON (((-121.35921 38.57175, -121.3462...</td>\n",
       "    </tr>\n",
       "    <tr>\n",
       "      <th>4</th>\n",
       "      <td>5</td>\n",
       "      <td>3200 Huntsman Drive, Rosemont Park, Sacramento</td>\n",
       "      <td>MULTIPOLYGON (((-121.37512 38.55309, -121.3715...</td>\n",
       "    </tr>\n",
       "    <tr>\n",
       "      <th>...</th>\n",
       "      <td>...</td>\n",
       "      <td>...</td>\n",
       "      <td>...</td>\n",
       "    </tr>\n",
       "    <tr>\n",
       "      <th>2705</th>\n",
       "      <td>2706</td>\n",
       "      <td>10000 Bobbell Drive, Elk Grove</td>\n",
       "      <td>MULTIPOLYGON (((-121.48392 38.40874, -121.4787...</td>\n",
       "    </tr>\n",
       "    <tr>\n",
       "      <th>2706</th>\n",
       "      <td>2707</td>\n",
       "      <td>400 Ericwood Court, Manteca</td>\n",
       "      <td>MULTIPOLYGON (((-121.22695 37.82647, -121.2185...</td>\n",
       "    </tr>\n",
       "    <tr>\n",
       "      <th>2707</th>\n",
       "      <td>2708</td>\n",
       "      <td>200 Westview Drive, Sunshine Gardens, South Sa...</td>\n",
       "      <td>MULTIPOLYGON (((-122.45179 37.66912, -122.4506...</td>\n",
       "    </tr>\n",
       "    <tr>\n",
       "      <th>2708</th>\n",
       "      <td>2709</td>\n",
       "      <td>1200 Halyard Drive, West Sacramento</td>\n",
       "      <td>MULTIPOLYGON (((-121.58346 38.57860, -121.5827...</td>\n",
       "    </tr>\n",
       "    <tr>\n",
       "      <th>2709</th>\n",
       "      <td>2710</td>\n",
       "      <td>2500 Clubhouse Drive West, Whitney Oaks, Rocklin</td>\n",
       "      <td>MULTIPOLYGON (((-121.25720 38.82472, -121.2545...</td>\n",
       "    </tr>\n",
       "  </tbody>\n",
       "</table>\n",
       "<p>2710 rows × 3 columns</p>\n",
       "</div>"
      ],
      "text/plain": [
       "      MOVEMENT_ID                                       DISPLAY_NAME  \\\n",
       "0               1                            Sargent Creek, San Ardo   \n",
       "1               2  400 Northumberland Avenue, Redwood Oaks, Redwo...   \n",
       "2               3                18300 Sutter Boulevard, Morgan Hill   \n",
       "3               4          2700 Stoughton Way, Sheffield, Sacramento   \n",
       "4               5     3200 Huntsman Drive, Rosemont Park, Sacramento   \n",
       "...           ...                                                ...   \n",
       "2705         2706                     10000 Bobbell Drive, Elk Grove   \n",
       "2706         2707                        400 Ericwood Court, Manteca   \n",
       "2707         2708  200 Westview Drive, Sunshine Gardens, South Sa...   \n",
       "2708         2709                1200 Halyard Drive, West Sacramento   \n",
       "2709         2710   2500 Clubhouse Drive West, Whitney Oaks, Rocklin   \n",
       "\n",
       "                                               geometry  \n",
       "0     MULTIPOLYGON (((-121.59511 36.11126, -121.5401...  \n",
       "1     MULTIPOLYGON (((-122.22463 37.46507, -122.2236...  \n",
       "2     MULTIPOLYGON (((-121.67978 37.15859, -121.6719...  \n",
       "3     MULTIPOLYGON (((-121.35921 38.57175, -121.3462...  \n",
       "4     MULTIPOLYGON (((-121.37512 38.55309, -121.3715...  \n",
       "...                                                 ...  \n",
       "2705  MULTIPOLYGON (((-121.48392 38.40874, -121.4787...  \n",
       "2706  MULTIPOLYGON (((-121.22695 37.82647, -121.2185...  \n",
       "2707  MULTIPOLYGON (((-122.45179 37.66912, -122.4506...  \n",
       "2708  MULTIPOLYGON (((-121.58346 38.57860, -121.5827...  \n",
       "2709  MULTIPOLYGON (((-121.25720 38.82472, -121.2545...  \n",
       "\n",
       "[2710 rows x 3 columns]"
      ]
     },
     "execution_count": 18,
     "metadata": {},
     "output_type": "execute_result"
    }
   ],
   "source": [
    "import geopandas as gpd\n",
    "PATH_TRACTS = os.path.expanduser('data/san_francisco_censustracts.json')\n",
    "tract_to_gps = gpd.read_file(PATH_TRACTS)\n",
    "tract_to_gps['MOVEMENT_ID'] = tract_to_gps['MOVEMENT_ID'].astype(int)\n",
    "tract_to_gps"
   ]
  },
  {
   "cell_type": "code",
   "execution_count": 19,
   "id": "06e65c44",
   "metadata": {
    "deletable": false,
    "editable": false
   },
   "outputs": [
    {
     "data": {
      "text/html": [
       "<p><strong><pre style='display: inline;'>q1ci</pre></strong> passed!</p>"
      ],
      "text/plain": [
       "q1ci results: All test cases passed!"
      ]
     },
     "execution_count": 19,
     "metadata": {},
     "output_type": "execute_result"
    }
   ],
   "source": [
    "grader.check(\"q1ci\")"
   ]
  },
  {
   "cell_type": "markdown",
   "id": "ffdd0c59",
   "metadata": {
    "deletable": false,
    "editable": false
   },
   "source": [
    "### 1.c.ii Map traffic speed to census tracts.\n",
    "\n",
    "You will need to *spatially join* the (1) mapping from traffic speed to GPS coordinates `speed_to_gps` and (2) the mapping from GPS coordinates to boundaries of census tracts `tract_to_gps` to group all traffic speeds by census tract. This \"spatial join\" is an advanced feature recently released (as of time of writing, in Oct 2021) in geopandas, which allows us to connect single points to their enclosing polygons. You will do this question in 3 parts:\n",
    "\n",
    "1. Convert the last dataframe `speeds_to_gps` into a geopandas dataframe `speeds_to_points`, where GPS coordinates are now geopandas points. See this tutorial: https://geopandas.org/gallery/create_geopandas_from_pandas.html#From-longitudes-and-latitudes\n",
    "2. Set the coordinate-system for the new geopandas dataframe to the \"world geodesic system\" [link](https://epsg.io/4326), or in other words, the coordinate system that GPS coordinates are reported in.\n",
    "3. Compute a spatial join between census tracts `tract_to_gps` and the geopandas traffic speeds `speeds_to_points`\n",
    "\n",
    "<!--\n",
    "BEGIN QUESTION\n",
    "name: q1cii\n",
    "points: 4\n",
    "-->"
   ]
  },
  {
   "cell_type": "code",
   "execution_count": 20,
   "id": "58acc9d0",
   "metadata": {},
   "outputs": [
    {
     "data": {
      "text/html": [
       "<div>\n",
       "<style scoped>\n",
       "    .dataframe tbody tr th:only-of-type {\n",
       "        vertical-align: middle;\n",
       "    }\n",
       "\n",
       "    .dataframe tbody tr th {\n",
       "        vertical-align: top;\n",
       "    }\n",
       "\n",
       "    .dataframe thead th {\n",
       "        text-align: right;\n",
       "    }\n",
       "</style>\n",
       "<table border=\"1\" class=\"dataframe\">\n",
       "  <thead>\n",
       "    <tr style=\"text-align: right;\">\n",
       "      <th></th>\n",
       "      <th>osm_start_node_id</th>\n",
       "      <th>osm_end_node_id</th>\n",
       "      <th>day</th>\n",
       "      <th>speed_mph_mean</th>\n",
       "      <th>Latitude</th>\n",
       "      <th>Longitude</th>\n",
       "      <th>plus_latitude_idx</th>\n",
       "      <th>plus_longitude_idx</th>\n",
       "      <th>geometry</th>\n",
       "      <th>index_right</th>\n",
       "      <th>MOVEMENT_ID</th>\n",
       "      <th>DISPLAY_NAME</th>\n",
       "    </tr>\n",
       "  </thead>\n",
       "  <tbody>\n",
       "    <tr>\n",
       "      <th>141</th>\n",
       "      <td>26118026</td>\n",
       "      <td>259458979</td>\n",
       "      <td>1</td>\n",
       "      <td>64.478000</td>\n",
       "      <td>37.675280</td>\n",
       "      <td>-122.389194</td>\n",
       "      <td>3139</td>\n",
       "      <td>-10200</td>\n",
       "      <td>POINT (-122.38919 37.67528)</td>\n",
       "      <td>1729</td>\n",
       "      <td>1730</td>\n",
       "      <td>0 Park Lane, Brisbane</td>\n",
       "    </tr>\n",
       "    <tr>\n",
       "      <th>78177</th>\n",
       "      <td>26118026</td>\n",
       "      <td>259458979</td>\n",
       "      <td>2</td>\n",
       "      <td>62.868208</td>\n",
       "      <td>37.675280</td>\n",
       "      <td>-122.389194</td>\n",
       "      <td>3139</td>\n",
       "      <td>-10200</td>\n",
       "      <td>POINT (-122.38919 37.67528)</td>\n",
       "      <td>1729</td>\n",
       "      <td>1730</td>\n",
       "      <td>0 Park Lane, Brisbane</td>\n",
       "    </tr>\n",
       "    <tr>\n",
       "      <th>180660</th>\n",
       "      <td>26118026</td>\n",
       "      <td>259458979</td>\n",
       "      <td>3</td>\n",
       "      <td>62.211750</td>\n",
       "      <td>37.675280</td>\n",
       "      <td>-122.389194</td>\n",
       "      <td>3139</td>\n",
       "      <td>-10200</td>\n",
       "      <td>POINT (-122.38919 37.67528)</td>\n",
       "      <td>1729</td>\n",
       "      <td>1730</td>\n",
       "      <td>0 Park Lane, Brisbane</td>\n",
       "    </tr>\n",
       "    <tr>\n",
       "      <th>288425</th>\n",
       "      <td>26118026</td>\n",
       "      <td>259458979</td>\n",
       "      <td>4</td>\n",
       "      <td>62.192458</td>\n",
       "      <td>37.675280</td>\n",
       "      <td>-122.389194</td>\n",
       "      <td>3139</td>\n",
       "      <td>-10200</td>\n",
       "      <td>POINT (-122.38919 37.67528)</td>\n",
       "      <td>1729</td>\n",
       "      <td>1730</td>\n",
       "      <td>0 Park Lane, Brisbane</td>\n",
       "    </tr>\n",
       "    <tr>\n",
       "      <th>395950</th>\n",
       "      <td>26118026</td>\n",
       "      <td>259458979</td>\n",
       "      <td>5</td>\n",
       "      <td>61.913292</td>\n",
       "      <td>37.675280</td>\n",
       "      <td>-122.389194</td>\n",
       "      <td>3139</td>\n",
       "      <td>-10200</td>\n",
       "      <td>POINT (-122.38919 37.67528)</td>\n",
       "      <td>1729</td>\n",
       "      <td>1730</td>\n",
       "      <td>0 Park Lane, Brisbane</td>\n",
       "    </tr>\n",
       "    <tr>\n",
       "      <th>...</th>\n",
       "      <td>...</td>\n",
       "      <td>...</td>\n",
       "      <td>...</td>\n",
       "      <td>...</td>\n",
       "      <td>...</td>\n",
       "      <td>...</td>\n",
       "      <td>...</td>\n",
       "      <td>...</td>\n",
       "      <td>...</td>\n",
       "      <td>...</td>\n",
       "      <td>...</td>\n",
       "      <td>...</td>\n",
       "    </tr>\n",
       "    <tr>\n",
       "      <th>539049</th>\n",
       "      <td>110424354</td>\n",
       "      <td>110424978</td>\n",
       "      <td>6</td>\n",
       "      <td>12.834000</td>\n",
       "      <td>37.896700</td>\n",
       "      <td>-122.539525</td>\n",
       "      <td>3158</td>\n",
       "      <td>-10212</td>\n",
       "      <td>POINT (-122.53952 37.89670)</td>\n",
       "      <td>498</td>\n",
       "      <td>499</td>\n",
       "      <td>600 Throckmorton Avenue, Mill Valley</td>\n",
       "    </tr>\n",
       "    <tr>\n",
       "      <th>649438</th>\n",
       "      <td>110424354</td>\n",
       "      <td>110424978</td>\n",
       "      <td>7</td>\n",
       "      <td>15.586000</td>\n",
       "      <td>37.896700</td>\n",
       "      <td>-122.539525</td>\n",
       "      <td>3158</td>\n",
       "      <td>-10212</td>\n",
       "      <td>POINT (-122.53952 37.89670)</td>\n",
       "      <td>498</td>\n",
       "      <td>499</td>\n",
       "      <td>600 Throckmorton Avenue, Mill Valley</td>\n",
       "    </tr>\n",
       "    <tr>\n",
       "      <th>904462</th>\n",
       "      <td>110424354</td>\n",
       "      <td>110424978</td>\n",
       "      <td>10</td>\n",
       "      <td>13.255000</td>\n",
       "      <td>37.896700</td>\n",
       "      <td>-122.539525</td>\n",
       "      <td>3158</td>\n",
       "      <td>-10212</td>\n",
       "      <td>POINT (-122.53952 37.89670)</td>\n",
       "      <td>498</td>\n",
       "      <td>499</td>\n",
       "      <td>600 Throckmorton Avenue, Mill Valley</td>\n",
       "    </tr>\n",
       "    <tr>\n",
       "      <th>649059</th>\n",
       "      <td>110383033</td>\n",
       "      <td>110424972</td>\n",
       "      <td>7</td>\n",
       "      <td>19.423000</td>\n",
       "      <td>37.898306</td>\n",
       "      <td>-122.539984</td>\n",
       "      <td>3158</td>\n",
       "      <td>-10212</td>\n",
       "      <td>POINT (-122.53998 37.89831)</td>\n",
       "      <td>498</td>\n",
       "      <td>499</td>\n",
       "      <td>600 Throckmorton Avenue, Mill Valley</td>\n",
       "    </tr>\n",
       "    <tr>\n",
       "      <th>904238</th>\n",
       "      <td>110383033</td>\n",
       "      <td>110424972</td>\n",
       "      <td>10</td>\n",
       "      <td>20.706000</td>\n",
       "      <td>37.898306</td>\n",
       "      <td>-122.539984</td>\n",
       "      <td>3158</td>\n",
       "      <td>-10212</td>\n",
       "      <td>POINT (-122.53998 37.89831)</td>\n",
       "      <td>498</td>\n",
       "      <td>499</td>\n",
       "      <td>600 Throckmorton Avenue, Mill Valley</td>\n",
       "    </tr>\n",
       "  </tbody>\n",
       "</table>\n",
       "<p>418848 rows × 12 columns</p>\n",
       "</div>"
      ],
      "text/plain": [
       "        osm_start_node_id  osm_end_node_id  day  speed_mph_mean   Latitude  \\\n",
       "141              26118026        259458979    1       64.478000  37.675280   \n",
       "78177            26118026        259458979    2       62.868208  37.675280   \n",
       "180660           26118026        259458979    3       62.211750  37.675280   \n",
       "288425           26118026        259458979    4       62.192458  37.675280   \n",
       "395950           26118026        259458979    5       61.913292  37.675280   \n",
       "...                   ...              ...  ...             ...        ...   \n",
       "539049          110424354        110424978    6       12.834000  37.896700   \n",
       "649438          110424354        110424978    7       15.586000  37.896700   \n",
       "904462          110424354        110424978   10       13.255000  37.896700   \n",
       "649059          110383033        110424972    7       19.423000  37.898306   \n",
       "904238          110383033        110424972   10       20.706000  37.898306   \n",
       "\n",
       "         Longitude  plus_latitude_idx  plus_longitude_idx  \\\n",
       "141    -122.389194               3139              -10200   \n",
       "78177  -122.389194               3139              -10200   \n",
       "180660 -122.389194               3139              -10200   \n",
       "288425 -122.389194               3139              -10200   \n",
       "395950 -122.389194               3139              -10200   \n",
       "...            ...                ...                 ...   \n",
       "539049 -122.539525               3158              -10212   \n",
       "649438 -122.539525               3158              -10212   \n",
       "904462 -122.539525               3158              -10212   \n",
       "649059 -122.539984               3158              -10212   \n",
       "904238 -122.539984               3158              -10212   \n",
       "\n",
       "                           geometry  index_right  MOVEMENT_ID  \\\n",
       "141     POINT (-122.38919 37.67528)         1729         1730   \n",
       "78177   POINT (-122.38919 37.67528)         1729         1730   \n",
       "180660  POINT (-122.38919 37.67528)         1729         1730   \n",
       "288425  POINT (-122.38919 37.67528)         1729         1730   \n",
       "395950  POINT (-122.38919 37.67528)         1729         1730   \n",
       "...                             ...          ...          ...   \n",
       "539049  POINT (-122.53952 37.89670)          498          499   \n",
       "649438  POINT (-122.53952 37.89670)          498          499   \n",
       "904462  POINT (-122.53952 37.89670)          498          499   \n",
       "649059  POINT (-122.53998 37.89831)          498          499   \n",
       "904238  POINT (-122.53998 37.89831)          498          499   \n",
       "\n",
       "                                DISPLAY_NAME  \n",
       "141                    0 Park Lane, Brisbane  \n",
       "78177                  0 Park Lane, Brisbane  \n",
       "180660                 0 Park Lane, Brisbane  \n",
       "288425                 0 Park Lane, Brisbane  \n",
       "395950                 0 Park Lane, Brisbane  \n",
       "...                                      ...  \n",
       "539049  600 Throckmorton Avenue, Mill Valley  \n",
       "649438  600 Throckmorton Avenue, Mill Valley  \n",
       "904462  600 Throckmorton Avenue, Mill Valley  \n",
       "649059  600 Throckmorton Avenue, Mill Valley  \n",
       "904238  600 Throckmorton Avenue, Mill Valley  \n",
       "\n",
       "[418848 rows x 12 columns]"
      ]
     },
     "execution_count": 20,
     "metadata": {},
     "output_type": "execute_result"
    }
   ],
   "source": [
    "speeds_to_points = gpd.GeoDataFrame(\n",
    "    speeds_to_gps, geometry=gpd.points_from_xy(speeds_to_gps.Longitude, speeds_to_gps.Latitude)).set_crs(\"EPSG:4326\")\n",
    "speeds_to_tract = speeds_to_points.sjoin(tract_to_gps, how='inner')\n",
    "\n",
    "speeds_to_tract"
   ]
  },
  {
   "cell_type": "code",
   "execution_count": 21,
   "id": "cab9e795",
   "metadata": {
    "deletable": false,
    "editable": false
   },
   "outputs": [
    {
     "data": {
      "text/html": [
       "<p><strong><pre style='display: inline;'>q1cii</pre></strong> passed!</p>"
      ],
      "text/plain": [
       "q1cii results: All test cases passed!"
      ]
     },
     "execution_count": 21,
     "metadata": {},
     "output_type": "execute_result"
    }
   ],
   "source": [
    "grader.check(\"q1cii\")"
   ]
  },
  {
   "cell_type": "markdown",
   "id": "ac9b0eb1",
   "metadata": {
    "deletable": false,
    "editable": false
   },
   "source": [
    "### 1.c.iii. Aggregate movement speeds by census tract.\n",
    "\n",
    "- Create a new dataframe `speeds_by_tract` to group movement speeds by census tract. See the outputted dataframe from 1.c.i. to check how census tracts are identified.\n",
    "- Always double-check your numbers. **Report the number of census tracts** in your dataset.\n",
    "\n",
    "<!--\n",
    "BEGIN QUESTION\n",
    "name: q1ciii\n",
    "points: 2\n",
    "-->"
   ]
  },
  {
   "cell_type": "code",
   "execution_count": 22,
   "id": "e580a285",
   "metadata": {},
   "outputs": [
    {
     "data": {
      "text/plain": [
       "295"
      ]
     },
     "execution_count": 22,
     "metadata": {},
     "output_type": "execute_result"
    }
   ],
   "source": [
    "speeds_by_tract = speeds_to_tract.groupby(\"MOVEMENT_ID\").mean()\n",
    "num_census_tracts = len(speeds_by_tract)\n",
    "# speeds_by_tract\n",
    "num_census_tracts"
   ]
  },
  {
   "cell_type": "code",
   "execution_count": 23,
   "id": "59a2cd7a",
   "metadata": {
    "deletable": false,
    "editable": false
   },
   "outputs": [
    {
     "data": {
      "text/html": [
       "<p><strong><pre style='display: inline;'>q1ciii</pre></strong> passed!</p>"
      ],
      "text/plain": [
       "q1ciii results: All test cases passed!"
      ]
     },
     "execution_count": 23,
     "metadata": {},
     "output_type": "execute_result"
    }
   ],
   "source": [
    "grader.check(\"q1ciii\")"
   ]
  },
  {
   "cell_type": "markdown",
   "id": "614c17c2",
   "metadata": {
    "deletable": false,
    "editable": false
   },
   "source": [
    "<!-- BEGIN QUESTION -->\n",
    "\n",
    "### 1.c.iv. How well do census tracts summarize movement speeds?\n",
    "\n",
    "The following will give us an idea of how well the average represents traffic speed per plus code region. For these questions, we'll refer to a \"census tract\" as a \"cluster\":\n",
    "\n",
    "1. **Plot a histogram of the within-cluster standard deviation**.\n",
    "2. **Compute across-cluster average of within-cluster standard deviation**.\n",
    "3. **Compute across-cluster standard deviation of within-cluster average speeds**.\n",
    "4. **Is this average variance reasonable?** To assess what \"reasonable\" means, consider these questions and how to answer them: (1) Do plus codes capture meaningful subpopulations? (2) Do differences between subpopulations outweigh differences within a subpopulation? Use these ideas to assess whether the average standard deviation is high or not.\n",
    "\n",
    "Note: We are using the speed metric of miles per hour here.\n",
    "\n",
    "Just like before, please written answers in the first cell and coding answers in the second cell.\n",
    "<!--5. Using the above, how would you **compare census tracts to plus codes, in terms of its effectiveness** as a spatial clustering mechanism for analyzing traffic speeds? Compare the statistics you've computed. What does it mean for one to be higher than the other?-->\n",
    "\n",
    "<!--\n",
    "BEGIN QUESTION\n",
    "name: q1civ1\n",
    "points: 2\n",
    "manual: True\n",
    "-->\n",
    "\n"
   ]
  },
  {
   "cell_type": "markdown",
   "id": "ce22b426",
   "metadata": {},
   "source": [
    "* The average variance is overall reasonable. \n",
    "* Firstly, the histogram of speed_variance_by_pluscode is skewed to the right and has a mode of around 5-7. As most of the small average speed variances are generally small (<6 mph), this small variance is reasonable and aligned with our real life as the traffic would of the similar speed in the same geographical region. \n",
    "* While there are several relatively large speed variance above 8 mph, this large variance could be explained by the speedup and slow-down of traffic when the traffic light turns red or green. Thus, our experience with reality could easily explain the observations of speeds_to_gps in this right-skewed histogram.\n",
    "* The differences between subpopulations (denoted by average_variance_by_tract=8.300873802949297 below) DO NOT outweight the differences within a subpopulation (denoted by variance_average_by_tract=8.331964618884232 below). However, as can be seen from histogram, most of the within subpopulation differences are quite small (<6mph). Thus, The differences between subpopulations should technically outweight the differences within a subpopulation. The smaller in-subpopulation differences and larger across-subpopulation differences make sense because the traffic speeds should be relatively close to each other in the same plus_code_region while the speeds in different plus_code_region are supposed to be different.\n",
    "* Compared to the Google Plus Code Regions, this method of grouping by census tract makes more sense because the differences within subpopulations are smalled to show the concentration of similar traffic speed in the same region."
   ]
  },
  {
   "cell_type": "markdown",
   "id": "0343336f",
   "metadata": {
    "deletable": false,
    "editable": false
   },
   "source": [
    "<!-- END QUESTION -->\n",
    "\n",
    "<!-- BEGIN QUESTION -->\n",
    "\n",
    "<!--\n",
    "BEGIN QUESTION\n",
    "name: q1civ2\n",
    "points: 2\n",
    "manual: True\n",
    "-->"
   ]
  },
  {
   "cell_type": "code",
   "execution_count": 24,
   "id": "44766754",
   "metadata": {},
   "outputs": [
    {
     "data": {
      "image/png": "[encoded data removed]",
      "text/plain": [
       "<Figure size 432x288 with 1 Axes>"
      ]
     },
     "metadata": {
      "needs_background": "light"
     },
     "output_type": "display_data"
    }
   ],
   "source": [
    "speed_variance_by_tract = speeds_to_tract.groupby(\"MOVEMENT_ID\").std()[\"speed_mph_mean\"]\n",
    "ax = speed_variance_by_tract.plot(kind='hist', title='Traffic Speed Variance By Census Tract')\n",
    "ax.set_xlabel(\"Standard Deviation of Mean Speed (mph)\")\n",
    "ax.set_ylabel(\"Count\");\n",
    "average_variance_by_tract = np.mean(speed_variance_by_tract)\n",
    "variance_average_by_tract = np.std(speeds_to_tract.groupby([\"MOVEMENT_ID\"]).mean()[\"speed_mph_mean\"])"
   ]
  },
  {
   "cell_type": "markdown",
   "id": "b67171ee",
   "metadata": {
    "deletable": false,
    "editable": false
   },
   "source": [
    "<!-- END QUESTION -->\n",
    "\n",
    "<!--\n",
    "BEGIN QUESTION\n",
    "name: q1civ3\n",
    "points: 3\n",
    "-->"
   ]
  },
  {
   "cell_type": "code",
   "execution_count": 25,
   "id": "d63e512a",
   "metadata": {},
   "outputs": [
    {
     "data": {
      "text/plain": [
       "MOVEMENT_ID\n",
       "9        3.821144\n",
       "20       5.522853\n",
       "21       3.640453\n",
       "44       6.634154\n",
       "78       3.838873\n",
       "          ...    \n",
       "2691     3.379664\n",
       "2694     5.787065\n",
       "2695     4.617596\n",
       "2700    13.191079\n",
       "2708     7.136608\n",
       "Name: speed_mph_mean, Length: 295, dtype: float64"
      ]
     },
     "execution_count": 25,
     "metadata": {},
     "output_type": "execute_result"
    }
   ],
   "source": [
    "speed_variance_by_tract"
   ]
  },
  {
   "cell_type": "code",
   "execution_count": 26,
   "id": "28f4417c",
   "metadata": {
    "deletable": false,
    "editable": false
   },
   "outputs": [
    {
     "data": {
      "text/html": [
       "<p><strong><pre style='display: inline;'>q1civ3</pre></strong> passed!</p>"
      ],
      "text/plain": [
       "q1civ3 results: All test cases passed!"
      ]
     },
     "execution_count": 26,
     "metadata": {},
     "output_type": "execute_result"
    }
   ],
   "source": [
    "grader.check(\"q1civ3\")"
   ]
  },
  {
   "cell_type": "markdown",
   "id": "788dd143",
   "metadata": {
    "deletable": false,
    "editable": false
   },
   "source": [
    "<!-- BEGIN QUESTION -->\n",
    "\n",
    "## 1.d. What would be the ideal spatial clustering?\n",
    "\n",
    "This is an active research problem in many spatiotemporal modeling communities, and there is no single agreed-upon answer. Answer both of the following specifically knowing that you'll need to analyze traffic patterns according to this spatial clustering:\n",
    "\n",
    "1. **What is a good metric for a spatial structure?** How do we define good? Bad? What information do we expect a spatial structure to yield? Use the above parts and questions to help answer this.\n",
    "2. **What would you do to optimize your own metric for success in a spatial structure?**\n",
    "\n",
    "See related articles:\n",
    "\n",
    "- Uber's H3 [link](https://eng.uber.com/h3/), which divides the world into hexagons\n",
    "- Traffic Analysis Zones (TAZ) [link](https://en.wikipedia.org/wiki/Traffic_analysis_zone), which takes census data and additionally accounts for vehicles per household when dividing space\n",
    "\n",
    "<!--\n",
    "BEGIN QUESTION\n",
    "name: q1d\n",
    "points: 3\n",
    "manual: True\n",
    "-->"
   ]
  },
  {
   "cell_type": "markdown",
   "id": "c32e6c8a",
   "metadata": {},
   "source": [
    "* From our model, when we first used plus code region as spatial structure to mesure speed, the areas of each grid is relatively larger than using census tract as spatial structure. This will result in a larger variances of the average speed within each areas. Therefore, we can conclude that a good spatial structure needs to yield the average speed that closes to the true speed within the area and a good model should divide up the region to an extend where it is small enough to produce an accurate average speed but not too small to yield insufficient information. \n",
    "* In summary, the ideal spatial structure should be able to cover greater extent of the area, and the variance within the clustering should be small.\n",
    "* Uber's hexagonal hierarchical spatial index is a better spatial structure. the hexagons minimize the quantization error introduced when users move through a city. Hexagons also allow us to approximate radiuses easily. "
   ]
  },
  {
   "cell_type": "markdown",
   "id": "b27c4d41",
   "metadata": {},
   "source": [
    "<!-- END QUESTION -->\n",
    "\n",
    "\n",
    "\n",
    "# Step 2 - Guided EDA: Understanding COVID Lockdown Impact on Traffic\n",
    "\n",
    "In this step, we'll examine the impact of COVID on traffic. In particular, we'll study 3 different questions:\n",
    "\n",
    "- How did lockdown affect traffic speed? What factors dictate how much lockdown affected traffic speed?\n",
    "- What areas of traffic were most impacted by lockdown?"
   ]
  },
  {
   "cell_type": "markdown",
   "id": "d93e6892",
   "metadata": {},
   "source": [
    "## 2.a. How did lockdown affect traffic speed?"
   ]
  },
  {
   "cell_type": "markdown",
   "id": "f5b267b5",
   "metadata": {
    "deletable": false,
    "editable": false
   },
   "source": [
    "<!-- BEGIN QUESTION -->\n",
    "\n",
    "### 2.a.i. Sort census tracts by average speed, pre-lockdown.\n",
    "\n",
    "Consider the pre-lockdown period to be March 1 - 13, before the first COVID-related restrictions (travel bans) were announced on March 14, 2020.\n",
    "\n",
    "1. **Report a DataFrame which includes the *names* of the 10 census tracts with the lowest average speed**, along with the average speed for each tract.\n",
    "2. **Report a DataFrame which includes the *names* of the 10 census tracts with the highest average speed**, along with the average speed for each tract.\n",
    "2. Do these names match your expectations for low speed or high speed traffic pre-lockdown?  What relationships do you notice? (What do the low-speed areas have in common? The high-speed areas?) For this specific question, answer qualitatively. No need to quantify. **Hint**: Look up some of the names on a map, to understand where they are.\n",
    "3. **Plot a histogram for all average speeds, pre-lockdown**.\n",
    "4. You will notice a long tail distribution of high speed traffic. What do you think this corresponds to in San Francisco? Write down your hypothesis.\n",
    "\n",
    "Hint: To start off, think about what joins may be useful to get the desired DataFrame.\n",
    "\n",
    "<!--\n",
    "BEGIN QUESTION\n",
    "name: q2ai1\n",
    "points: 3\n",
    "manual: True\n",
    "-->"
   ]
  },
  {
   "cell_type": "markdown",
   "id": "2fc32209",
   "metadata": {},
   "source": [
    "* Yes, those names match with the expectations. Low speed areas are around San Fransico downtown where has large populations to slow down the speed. By contrast, high speed areas are either on high ways or in hills (such as Half Moon Bay). Since there are less populations within those areas, the speed will be high compared with downtown areas.\n",
    "* The long tail distribution of high spped traffic might be corresponded to high ways within San Fransicso."
   ]
  },
  {
   "cell_type": "markdown",
   "id": "29bbb45e",
   "metadata": {
    "deletable": false,
    "editable": false
   },
   "source": [
    "<!-- END QUESTION -->\n",
    "\n",
    "Answer the following question:\n",
    "<!--\n",
    "BEGIN QUESTION\n",
    "name: q2ai2\n",
    "points: 3\n",
    "-->"
   ]
  },
  {
   "cell_type": "code",
   "execution_count": null,
   "id": "693a420c-1671-46a8-bf2b-cf4b4d37a7f3",
   "metadata": {},
   "outputs": [],
   "source": []
  },
  {
   "cell_type": "code",
   "execution_count": 27,
   "id": "dc5793d9",
   "metadata": {
    "scrolled": true
   },
   "outputs": [
    {
     "data": {
      "text/html": [
       "<div>\n",
       "<style scoped>\n",
       "    .dataframe tbody tr th:only-of-type {\n",
       "        vertical-align: middle;\n",
       "    }\n",
       "\n",
       "    .dataframe tbody tr th {\n",
       "        vertical-align: top;\n",
       "    }\n",
       "\n",
       "    .dataframe thead th {\n",
       "        text-align: right;\n",
       "    }\n",
       "</style>\n",
       "<table border=\"1\" class=\"dataframe\">\n",
       "  <thead>\n",
       "    <tr style=\"text-align: right;\">\n",
       "      <th></th>\n",
       "      <th>geometry</th>\n",
       "      <th>DISPLAY_NAME</th>\n",
       "      <th>speed_mph_mean</th>\n",
       "    </tr>\n",
       "    <tr>\n",
       "      <th>MOVEMENT_ID</th>\n",
       "      <th></th>\n",
       "      <th></th>\n",
       "      <th></th>\n",
       "    </tr>\n",
       "  </thead>\n",
       "  <tbody>\n",
       "    <tr>\n",
       "      <th>9</th>\n",
       "      <td>POINT (-122.41568 37.78547)</td>\n",
       "      <td>500 Hyde Street, Tenderloin, San Francisco</td>\n",
       "      <td>14.585102</td>\n",
       "    </tr>\n",
       "    <tr>\n",
       "      <th>20</th>\n",
       "      <td>POINT (-122.41678 37.78787)</td>\n",
       "      <td>900 Sutter Street, Lower Nob Hill, San Francisco</td>\n",
       "      <td>15.679922</td>\n",
       "    </tr>\n",
       "    <tr>\n",
       "      <th>21</th>\n",
       "      <td>POINT (-122.43791 37.80061)</td>\n",
       "      <td>3400 Pierce Street, Marina District, San Franc...</td>\n",
       "      <td>14.292445</td>\n",
       "    </tr>\n",
       "    <tr>\n",
       "      <th>44</th>\n",
       "      <td>POINT (-122.39906 37.71941)</td>\n",
       "      <td>1700 Egbert Avenue, Bayview, San Francisco</td>\n",
       "      <td>23.353083</td>\n",
       "    </tr>\n",
       "    <tr>\n",
       "      <th>78</th>\n",
       "      <td>POINT (-122.38343 37.72974)</td>\n",
       "      <td>1400 Thomas Avenue, Bayview, San Francisco</td>\n",
       "      <td>16.213552</td>\n",
       "    </tr>\n",
       "    <tr>\n",
       "      <th>...</th>\n",
       "      <td>...</td>\n",
       "      <td>...</td>\n",
       "      <td>...</td>\n",
       "    </tr>\n",
       "    <tr>\n",
       "      <th>2691</th>\n",
       "      <td>POINT (-122.41621 37.60090)</td>\n",
       "      <td>800 Hacienda Way, Millbrae</td>\n",
       "      <td>20.746333</td>\n",
       "    </tr>\n",
       "    <tr>\n",
       "      <th>2694</th>\n",
       "      <td>POINT (-122.43000 37.78651)</td>\n",
       "      <td>1900 Buchanan Street, Western Addition, San Fr...</td>\n",
       "      <td>17.042386</td>\n",
       "    </tr>\n",
       "    <tr>\n",
       "      <th>2695</th>\n",
       "      <td>POINT (-122.48656 37.74445)</td>\n",
       "      <td>2200 Rivera Street, Sunset District, San Franc...</td>\n",
       "      <td>20.029011</td>\n",
       "    </tr>\n",
       "    <tr>\n",
       "      <th>2700</th>\n",
       "      <td>POINT (-122.43950 37.63646)</td>\n",
       "      <td>300 Ponderosa Road, Avalon, South San Francisco</td>\n",
       "      <td>32.184422</td>\n",
       "    </tr>\n",
       "    <tr>\n",
       "      <th>2708</th>\n",
       "      <td>POINT (-122.44840 37.66407)</td>\n",
       "      <td>200 Westview Drive, Sunshine Gardens, South Sa...</td>\n",
       "      <td>24.822808</td>\n",
       "    </tr>\n",
       "  </tbody>\n",
       "</table>\n",
       "<p>295 rows × 3 columns</p>\n",
       "</div>"
      ],
      "text/plain": [
       "                                geometry  \\\n",
       "MOVEMENT_ID                                \n",
       "9            POINT (-122.41568 37.78547)   \n",
       "20           POINT (-122.41678 37.78787)   \n",
       "21           POINT (-122.43791 37.80061)   \n",
       "44           POINT (-122.39906 37.71941)   \n",
       "78           POINT (-122.38343 37.72974)   \n",
       "...                                  ...   \n",
       "2691         POINT (-122.41621 37.60090)   \n",
       "2694         POINT (-122.43000 37.78651)   \n",
       "2695         POINT (-122.48656 37.74445)   \n",
       "2700         POINT (-122.43950 37.63646)   \n",
       "2708         POINT (-122.44840 37.66407)   \n",
       "\n",
       "                                                  DISPLAY_NAME  speed_mph_mean  \n",
       "MOVEMENT_ID                                                                     \n",
       "9                   500 Hyde Street, Tenderloin, San Francisco       14.585102  \n",
       "20            900 Sutter Street, Lower Nob Hill, San Francisco       15.679922  \n",
       "21           3400 Pierce Street, Marina District, San Franc...       14.292445  \n",
       "44                  1700 Egbert Avenue, Bayview, San Francisco       23.353083  \n",
       "78                  1400 Thomas Avenue, Bayview, San Francisco       16.213552  \n",
       "...                                                        ...             ...  \n",
       "2691                                800 Hacienda Way, Millbrae       20.746333  \n",
       "2694         1900 Buchanan Street, Western Addition, San Fr...       17.042386  \n",
       "2695         2200 Rivera Street, Sunset District, San Franc...       20.029011  \n",
       "2700           300 Ponderosa Road, Avalon, South San Francisco       32.184422  \n",
       "2708         200 Westview Drive, Sunshine Gardens, South Sa...       24.822808  \n",
       "\n",
       "[295 rows x 3 columns]"
      ]
     },
     "execution_count": 27,
     "metadata": {},
     "output_type": "execute_result"
    }
   ],
   "source": [
    "# compute the average speed per census tract (will use this later),\n",
    "# BEFORE the shelter-in-place was announced on March 14, 2020.\n",
    "# Autograder expects this to be a series\n",
    "averages_pre = speeds_to_tract[speeds_to_tract[\"day\"] < 14].groupby(\"MOVEMENT_ID\").mean()[\"speed_mph_mean\"]\n",
    "# Autograder expects this to be a dataframe with name of census tract,\n",
    "# polygon for census tract, and average speed per census tract\n",
    "move = speeds_to_tract[speeds_to_tract[\"day\"] < 14].groupby(\"MOVEMENT_ID\").mean().reset_index()\n",
    "table = move[[\"MOVEMENT_ID\", \"speed_mph_mean\"]]\n",
    "averages_pre_named = speeds_to_tract[[\"MOVEMENT_ID\", \"geometry\", \"DISPLAY_NAME\"]].merge(table, on=\"MOVEMENT_ID\").groupby(\"MOVEMENT_ID\").first()\n",
    "averages_pre_named"
   ]
  },
  {
   "cell_type": "code",
   "execution_count": 28,
   "id": "ea9bcc8a",
   "metadata": {
    "deletable": false,
    "editable": false
   },
   "outputs": [
    {
     "data": {
      "text/html": [
       "<p><strong><pre style='display: inline;'>q2ai2</pre></strong> passed!</p>"
      ],
      "text/plain": [
       "q2ai2 results: All test cases passed!"
      ]
     },
     "execution_count": 28,
     "metadata": {},
     "output_type": "execute_result"
    }
   ],
   "source": [
    "grader.check(\"q2ai2\")"
   ]
  },
  {
   "cell_type": "markdown",
   "id": "cb4f9839",
   "metadata": {
    "deletable": false,
    "editable": false,
    "tags": []
   },
   "source": [
    "Report the lowest 10 census tracts with the lowest average speed\n",
    "Remember we want the NAME of each census tract too. For the autograder, please keep the name of the speed field, `speed_mph_mean`.\n",
    "\n",
    "<!--\n",
    "BEGIN QUESTION\n",
    "name: q2ai3\n",
    "points: 1\n",
    "-->"
   ]
  },
  {
   "cell_type": "code",
   "execution_count": 29,
   "id": "cbf40889",
   "metadata": {
    "scrolled": true
   },
   "outputs": [
    {
     "data": {
      "text/html": [
       "<div>\n",
       "<style scoped>\n",
       "    .dataframe tbody tr th:only-of-type {\n",
       "        vertical-align: middle;\n",
       "    }\n",
       "\n",
       "    .dataframe tbody tr th {\n",
       "        vertical-align: top;\n",
       "    }\n",
       "\n",
       "    .dataframe thead th {\n",
       "        text-align: right;\n",
       "    }\n",
       "</style>\n",
       "<table border=\"1\" class=\"dataframe\">\n",
       "  <thead>\n",
       "    <tr style=\"text-align: right;\">\n",
       "      <th></th>\n",
       "      <th>geometry</th>\n",
       "      <th>DISPLAY_NAME</th>\n",
       "      <th>speed_mph_mean</th>\n",
       "    </tr>\n",
       "    <tr>\n",
       "      <th>MOVEMENT_ID</th>\n",
       "      <th></th>\n",
       "      <th></th>\n",
       "      <th></th>\n",
       "    </tr>\n",
       "  </thead>\n",
       "  <tbody>\n",
       "    <tr>\n",
       "      <th>1691</th>\n",
       "      <td>POINT (-122.40979 37.78667)</td>\n",
       "      <td>200 O'Farrell Street, Tenderloin, San Francisco</td>\n",
       "      <td>12.417079</td>\n",
       "    </tr>\n",
       "    <tr>\n",
       "      <th>2340</th>\n",
       "      <td>POINT (-122.41315 37.78100)</td>\n",
       "      <td>0 Mason Street, Tenderloin, San Francisco</td>\n",
       "      <td>12.595120</td>\n",
       "    </tr>\n",
       "    <tr>\n",
       "      <th>1688</th>\n",
       "      <td>POINT (-122.40918 37.79205)</td>\n",
       "      <td>1100 Taylor Street, Nob Hill, San Francisco</td>\n",
       "      <td>12.945291</td>\n",
       "    </tr>\n",
       "    <tr>\n",
       "      <th>651</th>\n",
       "      <td>POINT (-122.40946 37.75600)</td>\n",
       "      <td>2900 22nd Street, Mission District, San Francisco</td>\n",
       "      <td>13.195865</td>\n",
       "    </tr>\n",
       "    <tr>\n",
       "      <th>643</th>\n",
       "      <td>POINT (-122.41792 37.78518)</td>\n",
       "      <td>200 Myrtle Street, Tenderloin, San Francisco</td>\n",
       "      <td>13.490311</td>\n",
       "    </tr>\n",
       "    <tr>\n",
       "      <th>1689</th>\n",
       "      <td>POINT (-122.40531 37.78901)</td>\n",
       "      <td>200 Sutter Street, Financial District, San Fra...</td>\n",
       "      <td>13.502505</td>\n",
       "    </tr>\n",
       "    <tr>\n",
       "      <th>1244</th>\n",
       "      <td>POINT (-122.40755 37.79226)</td>\n",
       "      <td>800 Jackson Street, Chinatown, San Francisco</td>\n",
       "      <td>13.549474</td>\n",
       "    </tr>\n",
       "    <tr>\n",
       "      <th>1245</th>\n",
       "      <td>POINT (-122.40994 37.78743)</td>\n",
       "      <td>500 Geary Street, Tenderloin, San Francisco</td>\n",
       "      <td>13.570625</td>\n",
       "    </tr>\n",
       "    <tr>\n",
       "      <th>644</th>\n",
       "      <td>POINT (-122.41078 37.78322)</td>\n",
       "      <td>200 Jones Street, Tenderloin, San Francisco</td>\n",
       "      <td>13.626251</td>\n",
       "    </tr>\n",
       "    <tr>\n",
       "      <th>1674</th>\n",
       "      <td>POINT (-122.41388 37.78187)</td>\n",
       "      <td>200 Hyde Street, Tenderloin, San Francisco</td>\n",
       "      <td>13.944773</td>\n",
       "    </tr>\n",
       "  </tbody>\n",
       "</table>\n",
       "</div>"
      ],
      "text/plain": [
       "                                geometry  \\\n",
       "MOVEMENT_ID                                \n",
       "1691         POINT (-122.40979 37.78667)   \n",
       "2340         POINT (-122.41315 37.78100)   \n",
       "1688         POINT (-122.40918 37.79205)   \n",
       "651          POINT (-122.40946 37.75600)   \n",
       "643          POINT (-122.41792 37.78518)   \n",
       "1689         POINT (-122.40531 37.78901)   \n",
       "1244         POINT (-122.40755 37.79226)   \n",
       "1245         POINT (-122.40994 37.78743)   \n",
       "644          POINT (-122.41078 37.78322)   \n",
       "1674         POINT (-122.41388 37.78187)   \n",
       "\n",
       "                                                  DISPLAY_NAME  speed_mph_mean  \n",
       "MOVEMENT_ID                                                                     \n",
       "1691           200 O'Farrell Street, Tenderloin, San Francisco       12.417079  \n",
       "2340                 0 Mason Street, Tenderloin, San Francisco       12.595120  \n",
       "1688               1100 Taylor Street, Nob Hill, San Francisco       12.945291  \n",
       "651          2900 22nd Street, Mission District, San Francisco       13.195865  \n",
       "643               200 Myrtle Street, Tenderloin, San Francisco       13.490311  \n",
       "1689         200 Sutter Street, Financial District, San Fra...       13.502505  \n",
       "1244              800 Jackson Street, Chinatown, San Francisco       13.549474  \n",
       "1245               500 Geary Street, Tenderloin, San Francisco       13.570625  \n",
       "644                200 Jones Street, Tenderloin, San Francisco       13.626251  \n",
       "1674                200 Hyde Street, Tenderloin, San Francisco       13.944773  "
      ]
     },
     "execution_count": 29,
     "metadata": {},
     "output_type": "execute_result"
    }
   ],
   "source": [
    "bottom10_averages_pre = averages_pre_named.sort_values(by = \"speed_mph_mean\").head(10)\n",
    "bottom10_averages_pre"
   ]
  },
  {
   "cell_type": "code",
   "execution_count": 30,
   "id": "60a0db36",
   "metadata": {
    "deletable": false,
    "editable": false
   },
   "outputs": [
    {
     "data": {
      "text/html": [
       "<p><strong><pre style='display: inline;'>q2ai3</pre></strong> passed!</p>"
      ],
      "text/plain": [
       "q2ai3 results: All test cases passed!"
      ]
     },
     "execution_count": 30,
     "metadata": {},
     "output_type": "execute_result"
    }
   ],
   "source": [
    "grader.check(\"q2ai3\")"
   ]
  },
  {
   "cell_type": "markdown",
   "id": "b7b2fecc",
   "metadata": {
    "deletable": false,
    "editable": false
   },
   "source": [
    "Report the highest 10 census tracts with the highest average speed.\n",
    "\n",
    "<!--\n",
    "BEGIN QUESTION\n",
    "name: q2ai4\n",
    "points: 1\n",
    "-->"
   ]
  },
  {
   "cell_type": "code",
   "execution_count": 31,
   "id": "ca4fe3f9",
   "metadata": {},
   "outputs": [
    {
     "data": {
      "text/html": [
       "<div>\n",
       "<style scoped>\n",
       "    .dataframe tbody tr th:only-of-type {\n",
       "        vertical-align: middle;\n",
       "    }\n",
       "\n",
       "    .dataframe tbody tr th {\n",
       "        vertical-align: top;\n",
       "    }\n",
       "\n",
       "    .dataframe thead th {\n",
       "        text-align: right;\n",
       "    }\n",
       "</style>\n",
       "<table border=\"1\" class=\"dataframe\">\n",
       "  <thead>\n",
       "    <tr style=\"text-align: right;\">\n",
       "      <th></th>\n",
       "      <th>geometry</th>\n",
       "      <th>DISPLAY_NAME</th>\n",
       "      <th>speed_mph_mean</th>\n",
       "    </tr>\n",
       "    <tr>\n",
       "      <th>MOVEMENT_ID</th>\n",
       "      <th></th>\n",
       "      <th></th>\n",
       "      <th></th>\n",
       "    </tr>\n",
       "  </thead>\n",
       "  <tbody>\n",
       "    <tr>\n",
       "      <th>285</th>\n",
       "      <td>POINT (-122.32294 37.82261)</td>\n",
       "      <td>1600 Maritime Street, Oakland</td>\n",
       "      <td>59.498552</td>\n",
       "    </tr>\n",
       "    <tr>\n",
       "      <th>495</th>\n",
       "      <td>POINT (-122.42460 37.61790)</td>\n",
       "      <td>4200 Shelter Creek Lane, San Bruno</td>\n",
       "      <td>53.867847</td>\n",
       "    </tr>\n",
       "    <tr>\n",
       "      <th>1653</th>\n",
       "      <td>POINT (-122.37674 37.92725)</td>\n",
       "      <td>Petrolite Street, Richmond</td>\n",
       "      <td>47.318340</td>\n",
       "    </tr>\n",
       "    <tr>\n",
       "      <th>2339</th>\n",
       "      <td>POINT (-122.42587 37.60134)</td>\n",
       "      <td>Frenchmans Creek Road, Half Moon Bay</td>\n",
       "      <td>47.225137</td>\n",
       "    </tr>\n",
       "    <tr>\n",
       "      <th>1744</th>\n",
       "      <td>POINT (-122.41932 37.59630)</td>\n",
       "      <td>1200 Helen Drive, Millbrae</td>\n",
       "      <td>45.492292</td>\n",
       "    </tr>\n",
       "    <tr>\n",
       "      <th>2244</th>\n",
       "      <td>POINT (-122.37209 37.54745)</td>\n",
       "      <td>0 Crystal Springs Terrace, Hillsborough Park, ...</td>\n",
       "      <td>44.304919</td>\n",
       "    </tr>\n",
       "    <tr>\n",
       "      <th>2660</th>\n",
       "      <td>POINT (-122.50709 37.87027)</td>\n",
       "      <td>0 Burgess Court, Sausalito</td>\n",
       "      <td>43.848188</td>\n",
       "    </tr>\n",
       "    <tr>\n",
       "      <th>1955</th>\n",
       "      <td>POINT (-122.51360 37.54618)</td>\n",
       "      <td>Liccicitos Road, Moss Beach</td>\n",
       "      <td>42.784267</td>\n",
       "    </tr>\n",
       "    <tr>\n",
       "      <th>1732</th>\n",
       "      <td>POINT (-122.48227 37.66650)</td>\n",
       "      <td>0 Longview Drive, Westlake, Daly City</td>\n",
       "      <td>40.587037</td>\n",
       "    </tr>\n",
       "    <tr>\n",
       "      <th>1743</th>\n",
       "      <td>POINT (-122.40548 37.63088)</td>\n",
       "      <td>600 San Bruno Avenue East, San Bruno</td>\n",
       "      <td>38.944079</td>\n",
       "    </tr>\n",
       "  </tbody>\n",
       "</table>\n",
       "</div>"
      ],
      "text/plain": [
       "                                geometry  \\\n",
       "MOVEMENT_ID                                \n",
       "285          POINT (-122.32294 37.82261)   \n",
       "495          POINT (-122.42460 37.61790)   \n",
       "1653         POINT (-122.37674 37.92725)   \n",
       "2339         POINT (-122.42587 37.60134)   \n",
       "1744         POINT (-122.41932 37.59630)   \n",
       "2244         POINT (-122.37209 37.54745)   \n",
       "2660         POINT (-122.50709 37.87027)   \n",
       "1955         POINT (-122.51360 37.54618)   \n",
       "1732         POINT (-122.48227 37.66650)   \n",
       "1743         POINT (-122.40548 37.63088)   \n",
       "\n",
       "                                                  DISPLAY_NAME  speed_mph_mean  \n",
       "MOVEMENT_ID                                                                     \n",
       "285                              1600 Maritime Street, Oakland       59.498552  \n",
       "495                         4200 Shelter Creek Lane, San Bruno       53.867847  \n",
       "1653                                Petrolite Street, Richmond       47.318340  \n",
       "2339                      Frenchmans Creek Road, Half Moon Bay       47.225137  \n",
       "1744                                1200 Helen Drive, Millbrae       45.492292  \n",
       "2244         0 Crystal Springs Terrace, Hillsborough Park, ...       44.304919  \n",
       "2660                                0 Burgess Court, Sausalito       43.848188  \n",
       "1955                               Liccicitos Road, Moss Beach       42.784267  \n",
       "1732                     0 Longview Drive, Westlake, Daly City       40.587037  \n",
       "1743                      600 San Bruno Avenue East, San Bruno       38.944079  "
      ]
     },
     "execution_count": 31,
     "metadata": {},
     "output_type": "execute_result"
    }
   ],
   "source": [
    "top10_averages_pre = averages_pre_named.sort_values(by = \"speed_mph_mean\", ascending=False).head(10)\n",
    "top10_averages_pre"
   ]
  },
  {
   "cell_type": "code",
   "execution_count": 32,
   "id": "1eff6095",
   "metadata": {
    "deletable": false,
    "editable": false
   },
   "outputs": [
    {
     "data": {
      "text/html": [
       "<p><strong><pre style='display: inline;'>q2ai4</pre></strong> passed!</p>"
      ],
      "text/plain": [
       "q2ai4 results: All test cases passed!"
      ]
     },
     "execution_count": 32,
     "metadata": {},
     "output_type": "execute_result"
    }
   ],
   "source": [
    "grader.check(\"q2ai4\")"
   ]
  },
  {
   "cell_type": "markdown",
   "id": "f7ac7770",
   "metadata": {
    "deletable": false,
    "editable": false
   },
   "source": [
    "<!-- BEGIN QUESTION -->\n",
    "\n",
    "Plot the histogram\n",
    "<!--\n",
    "BEGIN QUESTION\n",
    "name: q2ai5\n",
    "points: 1\n",
    "manual: True\n",
    "-->"
   ]
  },
  {
   "cell_type": "code",
   "execution_count": 33,
   "id": "7c4a72ee",
   "metadata": {
    "scrolled": true
   },
   "outputs": [
    {
     "data": {
      "image/png": "[encoded data removed]",
      "text/plain": [
       "<Figure size 432x288 with 1 Axes>"
      ]
     },
     "metadata": {
      "needs_background": "light"
     },
     "output_type": "display_data"
    }
   ],
   "source": [
    "ax = averages_pre.plot(kind='hist', title='Average Speeds, Pre Lockdown')\n",
    "ax.set_xlabel(\"Average Speed (mph)\")\n",
    "ax.set_ylabel(\"Count\");"
   ]
  },
  {
   "cell_type": "markdown",
   "id": "c1744d97",
   "metadata": {
    "deletable": false,
    "editable": false
   },
   "source": [
    "<!-- END QUESTION -->\n",
    "\n",
    "<!-- BEGIN QUESTION -->\n",
    "\n",
    "### 2.a.ii. Sort census tracts by average speed, post-lockdown.\n",
    "\n",
    "I suggest checking the top 10 and bottom 10 tracts by average speed, post-lockdown. Consider the post-lockdown period to be March 14 - 31, after the first COVID restrictions were established on March 14, 2020. It's a healthy sanity check. For this question, you should report:\n",
    "\n",
    "- **Plot a histogram for all average speeds, post-lockdown.**\n",
    "- **What are the major differences between this post-lockdown histogram relative to the pre-lockdown histogram above**? Anything surprising? What did you expect, and what did you find?\n",
    "\n",
    "Write the written answers in the cell below, and the coding answers in the cells after that.\n",
    "\n",
    "<!--\n",
    "BEGIN QUESTION\n",
    "name: q2aii1\n",
    "points: 1\n",
    "manual: True\n",
    "-->"
   ]
  },
  {
   "cell_type": "markdown",
   "id": "d4fc289e",
   "metadata": {},
   "source": [
    "* The post-lockdown histogram has a lot higher average speed that the pre-lockdown histogram, and the post-lockdown histogram's maximal value (slightly above 70mph) is higher thatn the pre-lockdown histogram's maximal value (slightly below 60mph).\n",
    "* Besides, the post-lockdown histogram has a lot higher speed variance that the pre-lockdown histogram simply due to higher traveling speed.\n",
    "* This relative difference is not surprising but aligned with our expectation since there would be fewer vehicles during post-lockdown, thereby enabling vehicles to travel a lot faster."
   ]
  },
  {
   "cell_type": "markdown",
   "id": "fc5518a9",
   "metadata": {
    "deletable": false,
    "editable": false
   },
   "source": [
    "<!-- END QUESTION -->\n",
    "\n",
    "<!--\n",
    "BEGIN QUESTION\n",
    "name: q2aii2\n",
    "points: 2\n",
    "-->"
   ]
  },
  {
   "cell_type": "code",
   "execution_count": 41,
   "id": "26853706",
   "metadata": {},
   "outputs": [
    {
     "data": {
      "text/html": [
       "<div>\n",
       "<style scoped>\n",
       "    .dataframe tbody tr th:only-of-type {\n",
       "        vertical-align: middle;\n",
       "    }\n",
       "\n",
       "    .dataframe tbody tr th {\n",
       "        vertical-align: top;\n",
       "    }\n",
       "\n",
       "    .dataframe thead th {\n",
       "        text-align: right;\n",
       "    }\n",
       "</style>\n",
       "<table border=\"1\" class=\"dataframe\">\n",
       "  <thead>\n",
       "    <tr style=\"text-align: right;\">\n",
       "      <th></th>\n",
       "      <th>geometry</th>\n",
       "      <th>DISPLAY_NAME</th>\n",
       "      <th>speed_mph_mean</th>\n",
       "    </tr>\n",
       "    <tr>\n",
       "      <th>MOVEMENT_ID</th>\n",
       "      <th></th>\n",
       "      <th></th>\n",
       "      <th></th>\n",
       "    </tr>\n",
       "  </thead>\n",
       "  <tbody>\n",
       "    <tr>\n",
       "      <th>9</th>\n",
       "      <td>POINT (-122.41568 37.78547)</td>\n",
       "      <td>500 Hyde Street, Tenderloin, San Francisco</td>\n",
       "      <td>16.143154</td>\n",
       "    </tr>\n",
       "    <tr>\n",
       "      <th>20</th>\n",
       "      <td>POINT (-122.41678 37.78787)</td>\n",
       "      <td>900 Sutter Street, Lower Nob Hill, San Francisco</td>\n",
       "      <td>16.871488</td>\n",
       "    </tr>\n",
       "    <tr>\n",
       "      <th>21</th>\n",
       "      <td>POINT (-122.43791 37.80061)</td>\n",
       "      <td>3400 Pierce Street, Marina District, San Franc...</td>\n",
       "      <td>15.754795</td>\n",
       "    </tr>\n",
       "    <tr>\n",
       "      <th>44</th>\n",
       "      <td>POINT (-122.39906 37.71941)</td>\n",
       "      <td>1700 Egbert Avenue, Bayview, San Francisco</td>\n",
       "      <td>25.956602</td>\n",
       "    </tr>\n",
       "    <tr>\n",
       "      <th>78</th>\n",
       "      <td>POINT (-122.38343 37.72974)</td>\n",
       "      <td>1400 Thomas Avenue, Bayview, San Francisco</td>\n",
       "      <td>16.476000</td>\n",
       "    </tr>\n",
       "    <tr>\n",
       "      <th>...</th>\n",
       "      <td>...</td>\n",
       "      <td>...</td>\n",
       "      <td>...</td>\n",
       "    </tr>\n",
       "    <tr>\n",
       "      <th>2691</th>\n",
       "      <td>POINT (-122.41621 37.60090)</td>\n",
       "      <td>800 Hacienda Way, Millbrae</td>\n",
       "      <td>17.917000</td>\n",
       "    </tr>\n",
       "    <tr>\n",
       "      <th>2694</th>\n",
       "      <td>POINT (-122.43000 37.78651)</td>\n",
       "      <td>1900 Buchanan Street, Western Addition, San Fr...</td>\n",
       "      <td>22.128519</td>\n",
       "    </tr>\n",
       "    <tr>\n",
       "      <th>2695</th>\n",
       "      <td>POINT (-122.48656 37.74445)</td>\n",
       "      <td>2200 Rivera Street, Sunset District, San Franc...</td>\n",
       "      <td>23.440404</td>\n",
       "    </tr>\n",
       "    <tr>\n",
       "      <th>2700</th>\n",
       "      <td>POINT (-122.43950 37.63646)</td>\n",
       "      <td>300 Ponderosa Road, Avalon, South San Francisco</td>\n",
       "      <td>38.807594</td>\n",
       "    </tr>\n",
       "    <tr>\n",
       "      <th>2708</th>\n",
       "      <td>POINT (-122.44840 37.66407)</td>\n",
       "      <td>200 Westview Drive, Sunshine Gardens, South Sa...</td>\n",
       "      <td>26.171347</td>\n",
       "    </tr>\n",
       "  </tbody>\n",
       "</table>\n",
       "<p>285 rows × 3 columns</p>\n",
       "</div>"
      ],
      "text/plain": [
       "                                geometry  \\\n",
       "MOVEMENT_ID                                \n",
       "9            POINT (-122.41568 37.78547)   \n",
       "20           POINT (-122.41678 37.78787)   \n",
       "21           POINT (-122.43791 37.80061)   \n",
       "44           POINT (-122.39906 37.71941)   \n",
       "78           POINT (-122.38343 37.72974)   \n",
       "...                                  ...   \n",
       "2691         POINT (-122.41621 37.60090)   \n",
       "2694         POINT (-122.43000 37.78651)   \n",
       "2695         POINT (-122.48656 37.74445)   \n",
       "2700         POINT (-122.43950 37.63646)   \n",
       "2708         POINT (-122.44840 37.66407)   \n",
       "\n",
       "                                                  DISPLAY_NAME  speed_mph_mean  \n",
       "MOVEMENT_ID                                                                     \n",
       "9                   500 Hyde Street, Tenderloin, San Francisco       16.143154  \n",
       "20            900 Sutter Street, Lower Nob Hill, San Francisco       16.871488  \n",
       "21           3400 Pierce Street, Marina District, San Franc...       15.754795  \n",
       "44                  1700 Egbert Avenue, Bayview, San Francisco       25.956602  \n",
       "78                  1400 Thomas Avenue, Bayview, San Francisco       16.476000  \n",
       "...                                                        ...             ...  \n",
       "2691                                800 Hacienda Way, Millbrae       17.917000  \n",
       "2694         1900 Buchanan Street, Western Addition, San Fr...       22.128519  \n",
       "2695         2200 Rivera Street, Sunset District, San Franc...       23.440404  \n",
       "2700           300 Ponderosa Road, Avalon, South San Francisco       38.807594  \n",
       "2708         200 Westview Drive, Sunshine Gardens, South Sa...       26.171347  \n",
       "\n",
       "[285 rows x 3 columns]"
      ]
     },
     "execution_count": 41,
     "metadata": {},
     "output_type": "execute_result"
    }
   ],
   "source": [
    "# compute the average speed per census tract (will use this later),\n",
    "# AFTER (and including) the first COVID restrictions were put into effect.\n",
    "# Autograder expects this to be a series\n",
    "averages_post = speeds_to_tract[speeds_to_tract[\"day\"] >= 14].groupby(\"MOVEMENT_ID\").mean()[\"speed_mph_mean\"]\n",
    "# Autograder expects this to be a dataframe with name of census tract,\n",
    "# polygon for census tract, and average speed per census tract\n",
    "move = speeds_to_tract[speeds_to_tract[\"day\"] >= 14].groupby(\"MOVEMENT_ID\").mean().reset_index()\n",
    "table = move[[\"MOVEMENT_ID\", \"speed_mph_mean\"]]\n",
    "averages_post_named = speeds_to_tract[[\"MOVEMENT_ID\", \"geometry\", \"DISPLAY_NAME\"]].merge(table, on=\"MOVEMENT_ID\").groupby(\"MOVEMENT_ID\").first()\n",
    "averages_post_named"
   ]
  },
  {
   "cell_type": "code",
   "execution_count": 42,
   "id": "be5aad7f",
   "metadata": {
    "deletable": false,
    "editable": false
   },
   "outputs": [
    {
     "data": {
      "text/html": [
       "<p><strong><pre style='display: inline;'>q2aii2</pre></strong> passed!</p>"
      ],
      "text/plain": [
       "q2aii2 results: All test cases passed!"
      ]
     },
     "execution_count": 42,
     "metadata": {},
     "output_type": "execute_result"
    }
   ],
   "source": [
    "grader.check(\"q2aii2\")"
   ]
  },
  {
   "cell_type": "markdown",
   "id": "af775632",
   "metadata": {
    "deletable": false,
    "editable": false
   },
   "source": [
    "<!-- BEGIN QUESTION -->\n",
    "\n",
    "Plot the histogram\n",
    "<!--\n",
    "BEGIN QUESTION\n",
    "name: q2aii3\n",
    "points: 1\n",
    "manual: True\n",
    "-->"
   ]
  },
  {
   "cell_type": "code",
   "execution_count": 43,
   "id": "9c556a20",
   "metadata": {},
   "outputs": [
    {
     "data": {
      "image/png": "[encoded data removed]",
      "text/plain": [
       "<Figure size 432x288 with 1 Axes>"
      ]
     },
     "metadata": {
      "needs_background": "light"
     },
     "output_type": "display_data"
    }
   ],
   "source": [
    "ax = averages_post.plot(kind='hist', title='Average Speeds, Post Lockdown')\n",
    "ax.set_xlabel(\"Average Speed (mph)\")\n",
    "ax.set_ylabel(\"Count\");"
   ]
  },
  {
   "cell_type": "markdown",
   "id": "1c238aea",
   "metadata": {
    "deletable": false,
    "editable": false
   },
   "source": [
    "<!-- END QUESTION -->\n",
    "\n",
    "<!-- BEGIN QUESTION -->\n",
    "\n",
    "### 2.a.iii. Sort census tracts by change in traffic speed from pre to post lockdown.\n",
    "\n",
    "For each segment, compute the difference between the pre-lockdown average speed (March 1 - 13) and the post-lockdown average speed (March 14 - 31). **Plot a histogram of all differences.** Sanity check that the below histogram matches your observations of the histograms above, on your own.\n",
    "\n",
    "<!--\n",
    "BEGIN QUESTION\n",
    "name: q2aiii\n",
    "points: 2\n",
    "manual: True\n",
    "-->"
   ]
  },
  {
   "cell_type": "code",
   "execution_count": 44,
   "id": "773737c8",
   "metadata": {},
   "outputs": [
    {
     "data": {
      "image/png": "[encoded data removed]",
      "text/plain": [
       "<Figure size 432x288 with 1 Axes>"
      ]
     },
     "metadata": {
      "needs_background": "light"
     },
     "output_type": "display_data"
    }
   ],
   "source": [
    "# The autograder expects differences to be a series object with index\n",
    "# MOVEMENT_ID.\n",
    "differences = averages_post - averages_pre\n",
    "# plot the differences\n",
    "ax = differences.plot(kind='hist', title='Change in Traffic Speed From Pre to Post Lockdown')\n",
    "ax.set_xlabel(\"Average Speed (mph)\")\n",
    "ax.set_ylabel(\"Count\");"
   ]
  },
  {
   "cell_type": "code",
   "execution_count": 45,
   "id": "dbde2a4a",
   "metadata": {
    "deletable": false,
    "editable": false
   },
   "outputs": [
    {
     "data": {
      "text/html": [
       "<p><strong><pre style='display: inline;'>q2aiii</pre></strong> passed!</p>"
      ],
      "text/plain": [
       "q2aiii results: All test cases passed!"
      ]
     },
     "execution_count": 45,
     "metadata": {},
     "output_type": "execute_result"
    }
   ],
   "source": [
    "grader.check(\"q2aiii\")"
   ]
  },
  {
   "cell_type": "markdown",
   "id": "e6cb791f",
   "metadata": {
    "deletable": false,
    "editable": false
   },
   "source": [
    "<!-- END QUESTION -->\n",
    "\n",
    "<!-- BEGIN QUESTION -->\n",
    "\n",
    "### 2.a.iv. Quantify the impact of lockdown on average speeds.\n",
    "\n",
    "1. **Plot the average speed by day, across all segments**. Be careful not to plot the average of census tract averages instead. Recall the definition of segments from Q1.\n",
    "2. Is the change in speed smooth and gradually increasing? Or increasing sharply? Why? Use your real-world knowledge of announcements and measures during that time, in your explanation. You can use this list of bay area COVID-related dataes: https://abc7news.com/timeline-of-coronavirus-us-covid-19-bay-area-sf/6047519/\n",
    "\n",
    "<!--\n",
    "BEGIN QUESTION\n",
    "name: q2aiv1\n",
    "points: 1\n",
    "manual: True\n",
    "-->"
   ]
  },
  {
   "cell_type": "code",
   "execution_count": 46,
   "id": "8951f05f",
   "metadata": {},
   "outputs": [
    {
     "data": {
      "image/png": "[encoded data removed]",
      "text/plain": [
       "<Figure size 432x288 with 1 Axes>"
      ]
     },
     "metadata": {
      "needs_background": "light"
     },
     "output_type": "display_data"
    }
   ],
   "source": [
    "# Autograder expects this to be a series object containing the\n",
    "# data for your line plot -- average speeds per day.\n",
    "speeds_daily = speeds_to_tract.groupby(\"day\").mean()[\"speed_mph_mean\"]\n",
    "plt.plot(speeds_daily)\n",
    "plt.xlabel(\"Average speed (mph)\")\n",
    "plt.ylabel(\"Day\")\n",
    "plt.title(\"Average Speed Per Day\");"
   ]
  },
  {
   "cell_type": "markdown",
   "id": "78fc239a",
   "metadata": {
    "deletable": false,
    "editable": false
   },
   "source": [
    "<!-- END QUESTION -->\n",
    "\n",
    "<!-- BEGIN QUESTION -->\n",
    "\n",
    "Write your written answer in the cell below\n",
    "\n",
    "<!--\n",
    "BEGIN QUESTION\n",
    "name: q2aiv2\n",
    "points: 1\n",
    "manual: True\n",
    "-->"
   ]
  },
  {
   "cell_type": "markdown",
   "id": "f16d1b14",
   "metadata": {},
   "source": [
    "* The change in speed between pre and post lockdown increased sharply rather than smoothly. This might be caused by travel restricitons, bans of mass gatherings, and lockdowns in the city. As a result, less people go out and drive. With this decrease in traffic, people's average driving speed drastically increases. \n",
    "* On March 11, 2020, SF bans public gatherings of 1, 000 people or more. Starting on this day, we can see the average speed increases gradually till March 15. \n",
    "* On March 15, the Centers for Disease Control warns agains holding any gatherings larger than 50 people. With this strict restriction, the average speed further increases drastically."
   ]
  },
  {
   "cell_type": "markdown",
   "id": "fcf96438",
   "metadata": {
    "deletable": false,
    "editable": false
   },
   "source": [
    "<!-- END QUESTION -->\n",
    "\n",
    "Ignore the empty cell below, just run the autograder to test the code above is correct.\n",
    "<!--\n",
    "BEGIN QUESTION\n",
    "name: q2aiv3\n",
    "points: 1\n",
    "-->"
   ]
  },
  {
   "cell_type": "code",
   "execution_count": null,
   "id": "6e89231f",
   "metadata": {},
   "outputs": [],
   "source": []
  },
  {
   "cell_type": "code",
   "execution_count": 47,
   "id": "34e0adc8",
   "metadata": {
    "deletable": false,
    "editable": false
   },
   "outputs": [
    {
     "data": {
      "text/html": [
       "<p><strong><pre style='display: inline;'>q2aiv3</pre></strong> passed!</p>"
      ],
      "text/plain": [
       "q2aiv3 results: All test cases passed!"
      ]
     },
     "execution_count": 47,
     "metadata": {},
     "output_type": "execute_result"
    }
   ],
   "source": [
    "grader.check(\"q2aiv3\")"
   ]
  },
  {
   "cell_type": "markdown",
   "id": "8fe43fdd",
   "metadata": {
    "deletable": false,
    "editable": false
   },
   "source": [
    "<!-- BEGIN QUESTION -->\n",
    "\n",
    "### 2.a.v. Quantify the impact of pre-lockdown average speed on change in speed.\n",
    "\n",
    "1. Compute the correlation between change in speed and the *pre*-lockdown average speeds. Do we expect a positive or negative correlation, given our analysis above?\n",
    "2. Compute the correlation between change in speed and the post-lockdown average speeds.\n",
    "3. **How does the correlation in Q1 compare with the correlation in Q2?** You should expect a significant change in correlation value. What insight does this provide about traffic?\n",
    "\n",
    "Written answers in the first cell, coding answerts in the following cell.\n",
    "\n",
    "<!--\n",
    "BEGIN QUESTION\n",
    "name: q2av1\n",
    "points: 2\n",
    "manual: True\n",
    "-->"
   ]
  },
  {
   "cell_type": "markdown",
   "id": "b823f7f4",
   "metadata": {},
   "source": [
    "* The correlation in Q1 (correlation between pre-lockdown traffic and difference) is siginicantly low than the correlation in Q2 (correlation between post-lockdown traffic and difference).\n",
    "* There is a strong linear positive correlation between post-lockdown traffic and difference.\n",
    "* The correlation between pre-lockdown traffic and difference doesn't mean anything, because the difference of traffic is not related to the pre-lockdown traffic. However, the post-lockdown traffic determined the difference, thus leading to a strong linear positive correlation between post-lockdown traffic and difference. Intuitively, this also makes sense because the higher post-lockdown traffic speed leads to higher difference traffic speeds."
   ]
  },
  {
   "cell_type": "markdown",
   "id": "c9533f32",
   "metadata": {
    "deletable": false,
    "editable": false
   },
   "source": [
    "<!-- END QUESTION -->\n",
    "\n",
    "\n",
    "<!--\n",
    "BEGIN QUESTION\n",
    "name: q2av2\n",
    "points: 2\n",
    "-->"
   ]
  },
  {
   "cell_type": "code",
   "execution_count": 48,
   "id": "9c5bd6b1",
   "metadata": {},
   "outputs": [
    {
     "data": {
      "text/plain": [
       "(0.4633006380580185, 0.7926799984780661)"
      ]
     },
     "execution_count": 48,
     "metadata": {},
     "output_type": "execute_result"
    }
   ],
   "source": [
    "corr_pre_diff = pd.DataFrame(data={\"averages_post\":averages_pre,\"difference\":differences}).corr()[\"averages_post\"][\"difference\"]\n",
    "corr_pre_diff\n",
    "corr_post_diff = pd.DataFrame(data={\"averages_pre\":averages_post,\"difference\":differences}).corr()[\"averages_pre\"][\"difference\"]\n",
    "corr_pre_diff, corr_post_diff"
   ]
  },
  {
   "cell_type": "code",
   "execution_count": 49,
   "id": "fcc1ebff",
   "metadata": {
    "deletable": false,
    "editable": false
   },
   "outputs": [
    {
     "data": {
      "text/html": [
       "<p><strong><pre style='display: inline;'>q2av2</pre></strong> passed!</p>"
      ],
      "text/plain": [
       "q2av2 results: All test cases passed!"
      ]
     },
     "execution_count": 49,
     "metadata": {},
     "output_type": "execute_result"
    }
   ],
   "source": [
    "grader.check(\"q2av2\")"
   ]
  },
  {
   "cell_type": "markdown",
   "id": "836a5ff5",
   "metadata": {},
   "source": [
    "## 2.b. What traffic areas were impacted by lockdown?"
   ]
  },
  {
   "cell_type": "markdown",
   "id": "f735ba04",
   "metadata": {
    "deletable": false,
    "editable": false
   },
   "source": [
    "<!-- BEGIN QUESTION -->\n",
    "\n",
    "### 2.b.i. Visualize spatial heatmap of average traffic speed per census tract, pre-lockdown.\n",
    "\n",
    "Visualize a spatial heatmap of the grouped average daily speeds per census tract, which you computed in previous parts. Use the geopandas [chloropleth maps](https://geopandas.org/docs/user_guide/mapping.html#choropleth-maps). **Write your observations, using your visualization, noting down at least 2 areas or patterns of interest**. These may be a local extrema, or a region that is strangely all similar.\n",
    "\n",
    "**Hint**: Use [`to_crs`](https://geopandas.org/docs/reference/api/geopandas.GeoDataFrame.to_crs.html) and make sure the `epsg` is using the Pseudo-Mercator projection.\n",
    "\n",
    "**Hint**: You can use `contextily` to superimpose your chloropleth map on a real geographic map.\n",
    "\n",
    "**Hint** You can set a lower opacity for your chloropleth map, to see what's underneath, but be aware that if you plot with too low of an opacity, the map underneath will perturb your chloropleth and meddle with your conclusions.\n",
    "\n",
    "Written answers in the first cell, coding answers in the second cell.\n",
    "\n",
    "<!--\n",
    "BEGIN QUESTION\n",
    "name: q2bi1\n",
    "points: 1\n",
    "manual: True\n",
    "-->"
   ]
  },
  {
   "cell_type": "markdown",
   "id": "83337618",
   "metadata": {},
   "source": [
    "_Type your answer here, replacing this text._"
   ]
  },
  {
   "cell_type": "markdown",
   "id": "dfe03b21",
   "metadata": {
    "deletable": false,
    "editable": false
   },
   "source": [
    "<!-- END QUESTION -->\n",
    "\n",
    "<!-- BEGIN QUESTION -->\n",
    "\n",
    "<!--\n",
    "BEGIN QUESTION\n",
    "name: q2bi2\n",
    "points: 4\n",
    "manual: True\n",
    "-->"
   ]
  },
  {
   "cell_type": "code",
   "execution_count": 52,
   "id": "4fa1045e",
   "metadata": {},
   "outputs": [
    {
     "name": "stderr",
     "output_type": "stream",
     "text": [
      "/opt/conda/lib/python3.9/site-packages/contextily/tile.py:632: UserWarning: The inferred zoom level of 29 is not valid for the current tile provider (valid zooms: 0 - 18).\n",
      "  warnings.warn(msg)\n"
     ]
    },
    {
     "data": {
      "image/png": "[encoded data removed]",
      "text/plain": [
       "<Figure size 432x288 with 1 Axes>"
      ]
     },
     "metadata": {
      "needs_background": "light"
     },
     "output_type": "display_data"
    }
   ],
   "source": [
    "import contextily as cx\n",
    "averages_pre_named = averages_pre_named.set_crs(\"EPSG:4326\")\n",
    "ax = averages_pre_named.plot(column='speed_mph_mean', s=3)\n",
    "cx.add_basemap(ax)"
   ]
  },
  {
   "cell_type": "markdown",
   "id": "e1502243",
   "metadata": {
    "deletable": false,
    "editable": false
   },
   "source": [
    "<!-- END QUESTION -->\n",
    "\n",
    "<!-- BEGIN QUESTION -->\n",
    "\n",
    "### 2.b.ii. Visualize change in average daily speeds pre vs. post lockdown.\n",
    "\n",
    "Visualize a spatial heatmap of the census tract differences in average speeds, that we computed in a previous part. **Write your observations, using your visualization, noting down at least 2 areas or patterns of interest.** Some possible ideas for interesting notes: Which areas saw the most change in average speed? Which areas weren't affected? Why did some areas see *reduced* average speed?\n",
    "\n",
    "First cell is for the written answers, second cell is for the coding answers.\n",
    "\n",
    "<!--\n",
    "BEGIN QUESTION\n",
    "name: q2bii1\n",
    "points: 1\n",
    "manual: True\n",
    "-->"
   ]
  },
  {
   "cell_type": "markdown",
   "id": "c0a6f55b",
   "metadata": {},
   "source": [
    "_Type your answer here, replacing this text._"
   ]
  },
  {
   "cell_type": "markdown",
   "id": "120d1d2c",
   "metadata": {
    "deletable": false,
    "editable": false
   },
   "source": [
    "<!-- END QUESTION -->\n",
    "\n",
    "<!-- BEGIN QUESTION -->\n",
    "\n",
    "<!--\n",
    "BEGIN QUESTION\n",
    "name: q2bii2\n",
    "points: 4\n",
    "manual: True\n",
    "-->"
   ]
  },
  {
   "cell_type": "code",
   "execution_count": 53,
   "id": "f9eaf3e4",
   "metadata": {
    "scrolled": true
   },
   "outputs": [],
   "source": [
    "..."
   ]
  },
  {
   "cell_type": "markdown",
   "id": "b3a464f6",
   "metadata": {},
   "source": [
    "<!-- END QUESTION -->\n",
    "\n",
    "\n",
    "\n",
    "# Step 3 - Open-Ended EDA: Understanding lockdown impact on travel times\n",
    "\n",
    "Explore daily travel times from Hayes Valley to other destinations both before and throughout lockdown. Use the following questions as suggestions for what to explore, temporally and spatially:\n",
    "\n",
    "- How did lockdown affect travel times? Are there any meaningful factors that determined how travel time would be impacted? How was travel time affected over time?\n",
    "- Travel to which destinations were affected by lockdown? Are there surprisingly disproportionate amounts of impact in certain areas?"
   ]
  },
  {
   "cell_type": "markdown",
   "id": "1eca51d1",
   "metadata": {},
   "source": [
    "## 3.a. Load Datasets\n",
    "\n",
    "In this step, we will load two datasets:\n",
    "\n",
    "- Daily travel times from Hayes Valley to all other census tracts around San Francisco.\n",
    "- Daily travel times from 300 Hayes St to Golden Gate Park in San Francisco.\n",
    "\n",
    "For this specific set of data, we can ask several more questions; which questions you pursue are up to you, including any that you come up that are not on this list:\n",
    "\n",
    "- Which routes from Hayes Valley had similar impact on travel time? Did they share any factors in common? Traveling through the same place -- e.g., a freway? Traveling in similar areas e.g., residential areas?\n",
    "- Were clusters of routes impacted more severely than others over time? What determined the degree of impact?"
   ]
  },
  {
   "cell_type": "code",
   "execution_count": 54,
   "id": "0e7c6ce6",
   "metadata": {
    "scrolled": true
   },
   "outputs": [],
   "source": [
    "PATH_TIMES = 'data/travel-times-daily-san-francisco-2020-3.csv'\n",
    "times_to_tract = pd.read_csv(PATH_TIMES)\n",
    "times_to_tract"
   ]
  },
  {
   "cell_type": "markdown",
   "id": "cff25ccc",
   "metadata": {
    "deletable": false,
    "editable": false
   },
   "source": [
    "---\n",
    "\n",
    "To double-check your work, the cell below will rerun all of the autograder tests."
   ]
  },
  {
   "cell_type": "code",
   "execution_count": null,
   "id": "e5fe56ca",
   "metadata": {
    "deletable": false,
    "editable": false
   },
   "outputs": [],
   "source": [
    "grader.check_all()"
   ]
  },
  {
   "cell_type": "markdown",
   "id": "680fb43d",
   "metadata": {
    "deletable": false,
    "editable": false
   },
   "source": [
    "## Submission\n",
    "\n",
    "Make sure you have run all cells in your notebook in order before running the cell below, so that all images/graphs appear in the output. The cell below will generate a zip file for you to submit. **Please save before exporting!**"
   ]
  },
  {
   "cell_type": "code",
   "execution_count": null,
   "id": "003e8a82",
   "metadata": {
    "deletable": false,
    "editable": false
   },
   "outputs": [],
   "source": [
    "# Save your notebook first, then run this cell to export your submission.\n",
    "grader.export()"
   ]
  },
  {
   "cell_type": "markdown",
   "id": "c67239a9",
   "metadata": {},
   "source": [
    " "
   ]
  }
 ],
 "metadata": {
  "kernelspec": {
   "display_name": "Python 3 (ipykernel)",
   "language": "python",
   "name": "python3"
  },
  "language_info": {
   "codemirror_mode": {
    "name": "ipython",
    "version": 3
   },
   "file_extension": ".py",
   "mimetype": "text/x-python",
   "name": "python",
   "nbconvert_exporter": "python",
   "pygments_lexer": "ipython3",
   "version": "3.9.7"
  }
 },
 "nbformat": 4,
 "nbformat_minor": 5
}
